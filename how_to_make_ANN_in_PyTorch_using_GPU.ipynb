{
 "cells": [
  {
   "cell_type": "code",
   "execution_count": 1,
   "id": "dd025798-9a52-4687-bdcd-8b48d19c7a4d",
   "metadata": {},
   "outputs": [],
   "source": [
    "import pandas as pd\n",
    "import numpy as np\n",
    "import matplotlib.pyplot as plt\n",
    "\n",
    "import torch\n",
    "from torch import nn\n",
    "from torch.utils.data import DataLoader, Dataset\n",
    "import torch.optim as optim\n",
    "from sklearn.model_selection import train_test_split"
   ]
  },
  {
   "cell_type": "code",
   "execution_count": 2,
   "id": "b92555ab-f7ef-4e0d-98db-9d2400450f89",
   "metadata": {},
   "outputs": [
    {
     "data": {
      "text/plain": [
       "<torch._C.Generator at 0x18e5e48edf0>"
      ]
     },
     "execution_count": 2,
     "metadata": {},
     "output_type": "execute_result"
    }
   ],
   "source": [
    "torch.manual_seed(42)"
   ]
  },
  {
   "cell_type": "code",
   "execution_count": 3,
   "id": "740ebb24-1f19-4942-9d16-48bc3038a8fc",
   "metadata": {},
   "outputs": [
    {
     "data": {
      "text/html": [
       "<div>\n",
       "<style scoped>\n",
       "    .dataframe tbody tr th:only-of-type {\n",
       "        vertical-align: middle;\n",
       "    }\n",
       "\n",
       "    .dataframe tbody tr th {\n",
       "        vertical-align: top;\n",
       "    }\n",
       "\n",
       "    .dataframe thead th {\n",
       "        text-align: right;\n",
       "    }\n",
       "</style>\n",
       "<table border=\"1\" class=\"dataframe\">\n",
       "  <thead>\n",
       "    <tr style=\"text-align: right;\">\n",
       "      <th></th>\n",
       "      <th>label</th>\n",
       "      <th>pixel1</th>\n",
       "      <th>pixel2</th>\n",
       "      <th>pixel3</th>\n",
       "      <th>pixel4</th>\n",
       "      <th>pixel5</th>\n",
       "      <th>pixel6</th>\n",
       "      <th>pixel7</th>\n",
       "      <th>pixel8</th>\n",
       "      <th>pixel9</th>\n",
       "      <th>...</th>\n",
       "      <th>pixel775</th>\n",
       "      <th>pixel776</th>\n",
       "      <th>pixel777</th>\n",
       "      <th>pixel778</th>\n",
       "      <th>pixel779</th>\n",
       "      <th>pixel780</th>\n",
       "      <th>pixel781</th>\n",
       "      <th>pixel782</th>\n",
       "      <th>pixel783</th>\n",
       "      <th>pixel784</th>\n",
       "    </tr>\n",
       "  </thead>\n",
       "  <tbody>\n",
       "    <tr>\n",
       "      <th>0</th>\n",
       "      <td>9</td>\n",
       "      <td>0</td>\n",
       "      <td>0</td>\n",
       "      <td>0</td>\n",
       "      <td>0</td>\n",
       "      <td>0</td>\n",
       "      <td>0</td>\n",
       "      <td>0</td>\n",
       "      <td>0</td>\n",
       "      <td>0</td>\n",
       "      <td>...</td>\n",
       "      <td>0</td>\n",
       "      <td>7</td>\n",
       "      <td>0</td>\n",
       "      <td>50</td>\n",
       "      <td>205</td>\n",
       "      <td>196</td>\n",
       "      <td>213</td>\n",
       "      <td>165</td>\n",
       "      <td>0</td>\n",
       "      <td>0</td>\n",
       "    </tr>\n",
       "    <tr>\n",
       "      <th>1</th>\n",
       "      <td>7</td>\n",
       "      <td>0</td>\n",
       "      <td>0</td>\n",
       "      <td>0</td>\n",
       "      <td>0</td>\n",
       "      <td>0</td>\n",
       "      <td>0</td>\n",
       "      <td>0</td>\n",
       "      <td>0</td>\n",
       "      <td>0</td>\n",
       "      <td>...</td>\n",
       "      <td>0</td>\n",
       "      <td>0</td>\n",
       "      <td>0</td>\n",
       "      <td>0</td>\n",
       "      <td>0</td>\n",
       "      <td>0</td>\n",
       "      <td>0</td>\n",
       "      <td>0</td>\n",
       "      <td>0</td>\n",
       "      <td>0</td>\n",
       "    </tr>\n",
       "    <tr>\n",
       "      <th>2</th>\n",
       "      <td>0</td>\n",
       "      <td>0</td>\n",
       "      <td>0</td>\n",
       "      <td>0</td>\n",
       "      <td>0</td>\n",
       "      <td>0</td>\n",
       "      <td>1</td>\n",
       "      <td>0</td>\n",
       "      <td>0</td>\n",
       "      <td>0</td>\n",
       "      <td>...</td>\n",
       "      <td>142</td>\n",
       "      <td>142</td>\n",
       "      <td>142</td>\n",
       "      <td>21</td>\n",
       "      <td>0</td>\n",
       "      <td>3</td>\n",
       "      <td>0</td>\n",
       "      <td>0</td>\n",
       "      <td>0</td>\n",
       "      <td>0</td>\n",
       "    </tr>\n",
       "    <tr>\n",
       "      <th>3</th>\n",
       "      <td>8</td>\n",
       "      <td>0</td>\n",
       "      <td>0</td>\n",
       "      <td>0</td>\n",
       "      <td>0</td>\n",
       "      <td>0</td>\n",
       "      <td>0</td>\n",
       "      <td>0</td>\n",
       "      <td>0</td>\n",
       "      <td>0</td>\n",
       "      <td>...</td>\n",
       "      <td>0</td>\n",
       "      <td>0</td>\n",
       "      <td>0</td>\n",
       "      <td>0</td>\n",
       "      <td>0</td>\n",
       "      <td>0</td>\n",
       "      <td>0</td>\n",
       "      <td>0</td>\n",
       "      <td>0</td>\n",
       "      <td>0</td>\n",
       "    </tr>\n",
       "    <tr>\n",
       "      <th>4</th>\n",
       "      <td>8</td>\n",
       "      <td>0</td>\n",
       "      <td>0</td>\n",
       "      <td>0</td>\n",
       "      <td>0</td>\n",
       "      <td>0</td>\n",
       "      <td>0</td>\n",
       "      <td>0</td>\n",
       "      <td>0</td>\n",
       "      <td>0</td>\n",
       "      <td>...</td>\n",
       "      <td>213</td>\n",
       "      <td>203</td>\n",
       "      <td>174</td>\n",
       "      <td>151</td>\n",
       "      <td>188</td>\n",
       "      <td>10</td>\n",
       "      <td>0</td>\n",
       "      <td>0</td>\n",
       "      <td>0</td>\n",
       "      <td>0</td>\n",
       "    </tr>\n",
       "  </tbody>\n",
       "</table>\n",
       "<p>5 rows × 785 columns</p>\n",
       "</div>"
      ],
      "text/plain": [
       "   label  pixel1  pixel2  pixel3  pixel4  pixel5  pixel6  pixel7  pixel8  \\\n",
       "0      9       0       0       0       0       0       0       0       0   \n",
       "1      7       0       0       0       0       0       0       0       0   \n",
       "2      0       0       0       0       0       0       1       0       0   \n",
       "3      8       0       0       0       0       0       0       0       0   \n",
       "4      8       0       0       0       0       0       0       0       0   \n",
       "\n",
       "   pixel9  ...  pixel775  pixel776  pixel777  pixel778  pixel779  pixel780  \\\n",
       "0       0  ...         0         7         0        50       205       196   \n",
       "1       0  ...         0         0         0         0         0         0   \n",
       "2       0  ...       142       142       142        21         0         3   \n",
       "3       0  ...         0         0         0         0         0         0   \n",
       "4       0  ...       213       203       174       151       188        10   \n",
       "\n",
       "   pixel781  pixel782  pixel783  pixel784  \n",
       "0       213       165         0         0  \n",
       "1         0         0         0         0  \n",
       "2         0         0         0         0  \n",
       "3         0         0         0         0  \n",
       "4         0         0         0         0  \n",
       "\n",
       "[5 rows x 785 columns]"
      ]
     },
     "execution_count": 3,
     "metadata": {},
     "output_type": "execute_result"
    }
   ],
   "source": [
    "df = pd.read_csv(\"fmnist_small.csv\")\n",
    "df.head()"
   ]
  },
  {
   "cell_type": "code",
   "execution_count": 4,
   "id": "08b1a2cf-5751-47dd-8319-12f1e4178de6",
   "metadata": {},
   "outputs": [
    {
     "data": {
      "text/plain": [
       "(6000, 785)"
      ]
     },
     "execution_count": 4,
     "metadata": {},
     "output_type": "execute_result"
    }
   ],
   "source": [
    "df.shape"
   ]
  },
  {
   "cell_type": "code",
   "execution_count": 5,
   "id": "32f621a6-800d-4e86-b5cc-5f5bed3c6f5f",
   "metadata": {},
   "outputs": [
    {
     "data": {
      "text/plain": [
       "'cuda'"
      ]
     },
     "execution_count": 5,
     "metadata": {},
     "output_type": "execute_result"
    }
   ],
   "source": [
    "device = \"cuda\" if torch.cuda.is_available() else \"cpu\"\n",
    "device"
   ]
  },
  {
   "cell_type": "code",
   "execution_count": 6,
   "id": "b24fd094-6aa6-4c30-b3fd-3f818d752874",
   "metadata": {},
   "outputs": [
    {
     "data": {
      "image/png": "[encoded data removed]",
      "text/plain": [
       "<Figure size 1000x1000 with 16 Axes>"
      ]
     },
     "metadata": {},
     "output_type": "display_data"
    }
   ],
   "source": [
    "# Create a 4x4 grid of images\n",
    "fig, axes = plt.subplots(4, 4, figsize=(10, 10))\n",
    "fig.suptitle(\"First 16 Images\", fontsize=16)\n",
    "\n",
    "# Plot the first 16 images from the dataset\n",
    "for i, ax in enumerate(axes.flat):\n",
    "    img = df.iloc[i, 1:].values.reshape(28, 28)  # Reshape to 28x28\n",
    "    ax.imshow(img, cmap=\"gray\")  # Display in grayscale\n",
    "    ax.axis('off')  # Remove axis for a cleaner look\n",
    "    ax.set_title(f\"Label: {df.iloc[i, 0]}\")  # Show the label\n",
    "\n",
    "plt.tight_layout(rect=[0, 0, 1, 0.96])  # Adjust layout to fit the title\n",
    "plt.show()"
   ]
  },
  {
   "cell_type": "code",
   "execution_count": 7,
   "id": "116aa91f-76ec-4b40-b305-fcd656eea1ff",
   "metadata": {},
   "outputs": [
    {
     "data": {
      "image/png": "[encoded data removed]",
      "text/plain": [
       "<Figure size 1000x1000 with 16 Axes>"
      ]
     },
     "metadata": {},
     "output_type": "display_data"
    }
   ],
   "source": [
    "# Create a 4x4 grid of images\n",
    "fig, axes = plt.subplots(4, 4, figsize=(10, 10))\n",
    "fig.suptitle(\"First 16 Images\", fontsize=16)\n",
    "\n",
    "# Plot the first 16 images from the dataset\n",
    "for i, ax in enumerate(axes.flat):\n",
    "    img = df.iloc[i, 1:].values.reshape(28, 28)  # Reshape to 28x28\n",
    "    ax.imshow(img)  # Display in grayscale\n",
    "    ax.axis('off')  # Remove axis for a cleaner look\n",
    "    ax.set_title(f\"Label: {df.iloc[i, 0]}\")  # Show the label\n",
    "\n",
    "plt.tight_layout(rect=[0, 0, 1, 0.96])  # Adjust layout to fit the title\n",
    "plt.show()"
   ]
  },
  {
   "cell_type": "code",
   "execution_count": 8,
   "id": "091cfa26-2aa1-4064-8607-a52392eaac80",
   "metadata": {},
   "outputs": [],
   "source": [
    "X = df.iloc[:, 1:].values\n",
    "y = df.iloc[:, 0].values"
   ]
  },
  {
   "cell_type": "code",
   "execution_count": 9,
   "id": "06369199-fd30-4661-9619-0dd54f83d73b",
   "metadata": {},
   "outputs": [],
   "source": [
    "#train test split\n",
    "X_train, X_test, y_train, y_test = train_test_split(X, y, test_size=0.2, random_state=42)"
   ]
  },
  {
   "cell_type": "code",
   "execution_count": 10,
   "id": "81cc952d-0f80-43e5-afb9-b171670e05e5",
   "metadata": {},
   "outputs": [
    {
     "data": {
      "text/plain": [
       "array([[ 0,  0,  0, ...,  0,  0,  0],\n",
       "       [ 0,  0,  0, ...,  0,  0,  0],\n",
       "       [ 0,  0,  0, ...,  0,  0,  0],\n",
       "       ...,\n",
       "       [ 0,  0,  0, ...,  0,  0,  0],\n",
       "       [ 0,  0,  0, ...,  0,  0,  0],\n",
       "       [ 0,  0,  0, ..., 16,  0,  0]], dtype=int64)"
      ]
     },
     "execution_count": 10,
     "metadata": {},
     "output_type": "execute_result"
    }
   ],
   "source": [
    "X_train"
   ]
  },
  {
   "cell_type": "code",
   "execution_count": 13,
   "id": "a86571e3-c1b8-472e-bcac-fe10ffa69370",
   "metadata": {},
   "outputs": [
    {
     "data": {
      "text/plain": [
       "array([[ 0,  0,  0, ...,  0,  0,  0],\n",
       "       [ 0,  0,  0, ...,  0,  0,  0],\n",
       "       [ 0,  0,  0, ...,  0,  0,  0],\n",
       "       ...,\n",
       "       [ 0,  0,  0, ...,  0,  0,  0],\n",
       "       [ 0,  0,  0, ...,  0,  0,  0],\n",
       "       [ 0,  0,  0, ..., 16,  0,  0]], dtype=int64)"
      ]
     },
     "execution_count": 13,
     "metadata": {},
     "output_type": "execute_result"
    }
   ],
   "source": [
    "X_train"
   ]
  },
  {
   "cell_type": "code",
   "execution_count": 14,
   "id": "b70fec30-53d3-43c2-b8fc-dbc090744883",
   "metadata": {},
   "outputs": [],
   "source": [
    "# scaling the feautures\n",
    "X_train = X_train/255.0\n",
    "X_test = X_test/255.0"
   ]
  },
  {
   "cell_type": "code",
   "execution_count": 15,
   "id": "43859ebf-fad4-46e7-b871-3f42faa2b6a4",
   "metadata": {},
   "outputs": [
    {
     "data": {
      "text/plain": [
       "array([[0.       , 0.       , 0.       , ..., 0.       , 0.       ,\n",
       "        0.       ],\n",
       "       [0.       , 0.       , 0.       , ..., 0.       , 0.       ,\n",
       "        0.       ],\n",
       "       [0.       , 0.       , 0.       , ..., 0.       , 0.       ,\n",
       "        0.       ],\n",
       "       ...,\n",
       "       [0.       , 0.       , 0.       , ..., 0.       , 0.       ,\n",
       "        0.       ],\n",
       "       [0.       , 0.       , 0.       , ..., 0.       , 0.       ,\n",
       "        0.       ],\n",
       "       [0.       , 0.       , 0.       , ..., 0.0627451, 0.       ,\n",
       "        0.       ]])"
      ]
     },
     "execution_count": 15,
     "metadata": {},
     "output_type": "execute_result"
    }
   ],
   "source": [
    "X_train"
   ]
  },
  {
   "cell_type": "code",
   "execution_count": 28,
   "id": "5006122a-a20f-424b-b9b2-616d50f7ae01",
   "metadata": {},
   "outputs": [],
   "source": [
    "# create CustomDataset Class\n",
    "class CustomDataset(Dataset):\n",
    "\n",
    "  def __init__(self, features, labels):\n",
    "\n",
    "    self.features = torch.tensor(features, dtype=torch.float32).cuda()\n",
    "    self.labels = torch.tensor(labels, dtype=torch.long).cuda()\n",
    "\n",
    "  def __len__(self):\n",
    "\n",
    "    return len(self.features)\n",
    "\n",
    "  def __getitem__(self, index):\n",
    "\n",
    "    return self.features[index], self.labels[index]"
   ]
  },
  {
   "cell_type": "code",
   "execution_count": 29,
   "id": "7b9832c9-f18d-4970-ba2a-83e08f673038",
   "metadata": {},
   "outputs": [],
   "source": [
    "# create train_dataset object\n",
    "train_dataset = CustomDataset(X_train, y_train)"
   ]
  },
  {
   "cell_type": "code",
   "execution_count": 30,
   "id": "e59b5729-f763-45ee-8ebf-d463c6abf90c",
   "metadata": {
    "scrolled": true
   },
   "outputs": [
    {
     "data": {
      "text/plain": [
       "(tensor([0.0000, 0.0000, 0.0000, 0.0000, 0.0000, 0.0000, 0.0000, 0.0000, 0.0000,\n",
       "         0.0039, 0.0000, 0.0000, 0.3843, 0.3765, 0.3922, 0.3804, 0.3176, 0.0000,\n",
       "         0.0000, 0.0078, 0.0078, 0.0000, 0.0000, 0.0000, 0.0000, 0.0000, 0.0000,\n",
       "         0.0000, 0.0000, 0.0000, 0.0000, 0.0000, 0.0000, 0.0000, 0.0039, 0.0039,\n",
       "         0.0000, 0.0000, 0.0000, 0.0275, 0.8627, 0.7059, 0.6196, 0.6471, 0.8157,\n",
       "         0.0275, 0.0000, 0.0000, 0.0000, 0.0000, 0.0039, 0.0000, 0.0000, 0.0000,\n",
       "         0.0000, 0.0000, 0.0000, 0.0000, 0.0000, 0.0000, 0.0000, 0.0039, 0.0000,\n",
       "         0.0000, 0.0000, 0.0275, 0.3529, 0.7098, 0.5529, 0.7137, 0.8980, 0.7137,\n",
       "         0.6471, 0.7765, 0.4353, 0.1608, 0.0000, 0.0000, 0.0000, 0.0039, 0.0039,\n",
       "         0.0000, 0.0000, 0.0000, 0.0000, 0.0000, 0.0000, 0.0000, 0.0000, 0.0000,\n",
       "         0.0000, 0.3137, 0.5804, 0.7098, 0.7059, 0.5922, 0.5882, 0.5490, 0.7647,\n",
       "         0.5765, 0.6588, 0.6157, 0.6863, 0.7686, 0.6588, 0.4196, 0.0000, 0.0000,\n",
       "         0.0000, 0.0000, 0.0000, 0.0000, 0.0000, 0.0000, 0.0000, 0.0000, 0.0000,\n",
       "         0.0000, 0.5490, 0.6549, 0.6000, 0.5765, 0.5451, 0.5529, 0.5804, 0.6902,\n",
       "         0.6314, 0.6078, 0.6000, 0.5922, 0.5765, 0.5804, 0.5765, 0.6980, 0.4706,\n",
       "         0.0000, 0.0039, 0.0000, 0.0000, 0.0000, 0.0000, 0.0000, 0.0000, 0.0000,\n",
       "         0.0000, 0.1922, 0.6431, 0.5725, 0.5647, 0.5647, 0.6000, 0.6039, 0.5804,\n",
       "         0.5725, 0.6510, 0.5882, 0.6000, 0.5961, 0.5922, 0.5882, 0.5804, 0.6588,\n",
       "         0.6196, 0.0000, 0.0000, 0.0000, 0.0000, 0.0000, 0.0000, 0.0000, 0.0000,\n",
       "         0.0000, 0.0000, 0.3529, 0.6431, 0.5922, 0.5686, 0.5961, 0.5765, 0.5765,\n",
       "         0.5529, 0.6118, 0.6902, 0.5961, 0.5686, 0.6627, 0.6235, 0.5686, 0.6745,\n",
       "         0.6784, 0.6667, 0.0549, 0.0000, 0.0000, 0.0000, 0.0000, 0.0000, 0.0000,\n",
       "         0.0000, 0.0000, 0.0000, 0.4549, 0.6118, 0.6980, 0.5843, 0.6235, 0.6471,\n",
       "         0.6196, 0.6157, 0.6157, 0.5922, 0.5804, 0.6392, 0.7137, 0.6510, 0.7098,\n",
       "         0.7725, 0.6941, 0.6941, 0.2902, 0.0000, 0.0000, 0.0000, 0.0000, 0.0000,\n",
       "         0.0000, 0.0000, 0.0000, 0.0000, 0.6314, 0.6000, 0.7451, 0.7608, 0.6000,\n",
       "         0.6980, 0.6314, 0.6745, 0.6000, 0.7020, 0.6039, 0.6745, 0.6392, 0.6431,\n",
       "         0.6235, 0.8314, 0.7176, 0.6980, 0.4353, 0.0000, 0.0000, 0.0000, 0.0000,\n",
       "         0.0000, 0.0000, 0.0000, 0.0000, 0.0000, 0.7020, 0.6157, 0.7059, 0.7608,\n",
       "         0.5686, 0.6353, 0.6000, 0.6275, 0.6275, 0.7020, 0.6078, 0.6431, 0.6392,\n",
       "         0.6627, 0.6667, 0.8667, 0.7176, 0.6667, 0.4627, 0.0000, 0.0000, 0.0000,\n",
       "         0.0000, 0.0000, 0.0000, 0.0000, 0.0000, 0.0000, 0.7412, 0.6157, 0.6902,\n",
       "         0.7451, 0.5451, 0.6157, 0.6157, 0.6431, 0.6235, 0.6392, 0.6353, 0.6471,\n",
       "         0.6000, 0.6431, 0.6314, 0.9216, 0.7098, 0.6471, 0.5686, 0.0000, 0.0000,\n",
       "         0.0000, 0.0000, 0.0000, 0.0000, 0.0000, 0.0000, 0.0039, 0.7922, 0.6118,\n",
       "         0.7176, 0.7569, 0.5765, 0.6314, 0.6275, 0.6471, 0.6353, 0.6314, 0.6353,\n",
       "         0.6549, 0.6353, 0.6353, 0.6549, 0.8902, 0.7216, 0.6314, 0.6510, 0.0000,\n",
       "         0.0000, 0.0000, 0.0000, 0.0000, 0.0000, 0.0000, 0.0000, 0.0549, 0.8392,\n",
       "         0.6078, 0.7647, 0.7333, 0.5843, 0.6275, 0.6392, 0.5922, 0.6627, 0.6471,\n",
       "         0.6431, 0.6275, 0.6431, 0.6902, 0.6588, 0.9412, 0.7529, 0.6078, 0.7059,\n",
       "         0.0000, 0.0000, 0.0000, 0.0000, 0.0000, 0.0000, 0.0000, 0.0000, 0.1294,\n",
       "         0.8588, 0.6000, 0.8157, 0.6039, 0.6000, 0.5765, 0.6196, 0.5843, 0.7059,\n",
       "         0.6353, 0.6667, 0.6392, 0.6353, 0.6471, 0.6510, 0.6039, 0.8706, 0.5922,\n",
       "         0.7294, 0.0000, 0.0000, 0.0000, 0.0000, 0.0000, 0.0000, 0.0000, 0.0000,\n",
       "         0.1765, 0.8627, 0.6353, 0.8549, 0.3412, 0.6588, 0.6039, 0.6353, 0.5843,\n",
       "         0.6824, 0.6431, 0.6667, 0.6196, 0.6353, 0.6588, 0.7176, 0.3333, 0.9490,\n",
       "         0.5843, 0.7412, 0.0941, 0.0000, 0.0000, 0.0000, 0.0000, 0.0000, 0.0000,\n",
       "         0.0000, 0.2667, 0.8353, 0.6824, 0.7882, 0.2431, 0.7255, 0.5882, 0.6471,\n",
       "         0.5882, 0.6667, 0.6667, 0.6863, 0.6275, 0.6431, 0.6549, 0.7647, 0.2039,\n",
       "         0.9569, 0.6000, 0.7451, 0.2078, 0.0000, 0.0000, 0.0000, 0.0000, 0.0000,\n",
       "         0.0000, 0.0000, 0.3843, 0.7608, 0.7451, 0.5882, 0.1216, 0.8196, 0.5569,\n",
       "         0.6510, 0.5961, 0.6706, 0.6980, 0.7059, 0.6314, 0.6314, 0.6510, 0.7765,\n",
       "         0.0549, 0.8510, 0.6353, 0.7373, 0.2588, 0.0000, 0.0000, 0.0000, 0.0000,\n",
       "         0.0000, 0.0000, 0.0000, 0.4745, 0.6824, 0.7961, 0.4902, 0.0314, 0.8392,\n",
       "         0.5765, 0.6510, 0.5882, 0.6706, 0.6471, 0.6863, 0.6157, 0.6431, 0.6471,\n",
       "         0.8392, 0.0000, 0.6902, 0.6667, 0.6784, 0.3098, 0.0000, 0.0000, 0.0000,\n",
       "         0.0000, 0.0000, 0.0000, 0.0000, 0.4784, 0.6627, 0.8157, 0.4196, 0.0745,\n",
       "         0.8353, 0.5725, 0.6627, 0.5922, 0.6745, 0.6824, 0.7059, 0.6275, 0.6549,\n",
       "         0.6353, 0.9059, 0.0000, 0.5961, 0.7373, 0.6745, 0.3882, 0.0000, 0.0000,\n",
       "         0.0000, 0.0000, 0.0000, 0.0000, 0.0000, 0.4863, 0.6510, 0.9725, 0.2863,\n",
       "         0.1137, 0.8275, 0.5843, 0.6745, 0.6039, 0.6745, 0.7137, 0.7098, 0.6314,\n",
       "         0.6549, 0.6431, 0.9255, 0.0000, 0.4078, 0.7922, 0.6392, 0.4392, 0.0000,\n",
       "         0.0000, 0.0000, 0.0000, 0.0000, 0.0000, 0.0000, 0.4902, 0.6549, 1.0000,\n",
       "         0.0745, 0.2039, 0.8039, 0.5843, 0.6706, 0.6118, 0.6706, 0.6706, 0.6902,\n",
       "         0.6353, 0.6431, 0.6510, 0.9451, 0.0000, 0.2157, 0.8196, 0.6275, 0.5137,\n",
       "         0.0000, 0.0000, 0.0000, 0.0000, 0.0000, 0.0000, 0.0000, 0.4431, 0.6706,\n",
       "         0.9725, 0.0000, 0.3059, 0.7922, 0.5922, 0.6627, 0.6118, 0.6902, 0.7137,\n",
       "         0.7020, 0.6392, 0.6314, 0.6706, 0.9294, 0.0000, 0.0431, 0.8745, 0.6510,\n",
       "         0.4235, 0.0000, 0.0000, 0.0000, 0.0000, 0.0000, 0.0000, 0.0000, 0.3569,\n",
       "         0.6824, 0.8745, 0.0000, 0.3922, 0.7725, 0.6039, 0.6706, 0.6000, 0.6824,\n",
       "         0.7804, 0.7137, 0.6431, 0.6314, 0.6784, 0.9020, 0.0000, 0.0000, 0.8431,\n",
       "         0.6706, 0.3255, 0.0000, 0.0000, 0.0000, 0.0000, 0.0000, 0.0000, 0.0000,\n",
       "         0.2784, 0.7059, 0.7843, 0.0000, 0.4824, 0.7412, 0.6235, 0.6706, 0.5961,\n",
       "         0.6588, 0.7412, 0.7098, 0.6314, 0.6549, 0.6824, 0.9137, 0.0235, 0.0000,\n",
       "         0.8000, 0.6941, 0.3529, 0.0000, 0.0000, 0.0000, 0.0000, 0.0000, 0.0000,\n",
       "         0.0000, 0.2549, 0.6941, 0.7216, 0.0000, 0.6078, 0.6745, 0.6353, 0.6667,\n",
       "         0.6078, 0.6588, 0.7529, 0.7137, 0.6314, 0.6824, 0.6784, 0.9451, 0.1098,\n",
       "         0.0000, 0.6157, 0.7059, 0.2863, 0.0000, 0.0000, 0.0000, 0.0000, 0.0000,\n",
       "         0.0000, 0.0000, 0.4078, 0.7686, 0.7647, 0.0000, 0.2392, 0.8392, 0.6235,\n",
       "         0.6510, 0.5765, 0.7059, 0.8118, 0.6824, 0.6431, 0.6588, 0.7137, 0.8196,\n",
       "         0.0000, 0.0000, 0.7255, 0.7451, 0.4784, 0.0000, 0.0000, 0.0000, 0.0000,\n",
       "         0.0000, 0.0000, 0.0000, 0.0078, 0.1882, 0.1294, 0.0000, 0.0000, 0.5098,\n",
       "         0.8667, 0.7529, 0.6314, 0.7020, 0.7882, 0.6941, 0.6784, 0.6980, 0.7882,\n",
       "         0.4431, 0.0000, 0.0000, 0.0824, 0.1098, 0.0118, 0.0000, 0.0000, 0.0000,\n",
       "         0.0000, 0.0000, 0.0000, 0.0000, 0.0000, 0.0000, 0.0000, 0.0000, 0.0000,\n",
       "         0.0000, 0.2314, 0.4431, 0.5451, 0.7216, 0.7569, 0.6235, 0.5176, 0.5255,\n",
       "         0.3569, 0.0000, 0.0000, 0.0000, 0.0000, 0.0000, 0.0000, 0.0000, 0.0000,\n",
       "         0.0000], device='cuda:0'),\n",
       " tensor(6, device='cuda:0'))"
      ]
     },
     "execution_count": 30,
     "metadata": {},
     "output_type": "execute_result"
    }
   ],
   "source": [
    "train_dataset[1]"
   ]
  },
  {
   "cell_type": "code",
   "execution_count": 31,
   "id": "0f11240a-cba7-453a-83e5-826920ffaffe",
   "metadata": {},
   "outputs": [
    {
     "data": {
      "text/plain": [
       "tensor([7, 6, 7,  ..., 0, 8, 6], device='cuda:0')"
      ]
     },
     "execution_count": 31,
     "metadata": {},
     "output_type": "execute_result"
    }
   ],
   "source": [
    "train_dataset.labels"
   ]
  },
  {
   "cell_type": "code",
   "execution_count": 32,
   "id": "d0757663-efe7-4467-8482-211661cf2183",
   "metadata": {},
   "outputs": [
    {
     "data": {
      "text/plain": [
       "tensor([[0.0000, 0.0000, 0.0000,  ..., 0.0000, 0.0000, 0.0000],\n",
       "        [0.0000, 0.0000, 0.0000,  ..., 0.0000, 0.0000, 0.0000],\n",
       "        [0.0000, 0.0000, 0.0000,  ..., 0.0000, 0.0000, 0.0000],\n",
       "        ...,\n",
       "        [0.0000, 0.0000, 0.0000,  ..., 0.0000, 0.0000, 0.0000],\n",
       "        [0.0000, 0.0000, 0.0000,  ..., 0.0000, 0.0000, 0.0000],\n",
       "        [0.0000, 0.0000, 0.0000,  ..., 0.0627, 0.0000, 0.0000]],\n",
       "       device='cuda:0')"
      ]
     },
     "execution_count": 32,
     "metadata": {},
     "output_type": "execute_result"
    }
   ],
   "source": [
    "train_dataset.features"
   ]
  },
  {
   "cell_type": "code",
   "execution_count": 33,
   "id": "a9e32f16-f024-4865-a5c4-3199208bde8d",
   "metadata": {},
   "outputs": [],
   "source": [
    "# create test_dataset object\n",
    "test_dataset = CustomDataset(X_test, y_test)"
   ]
  },
  {
   "cell_type": "code",
   "execution_count": 34,
   "id": "711ce71b-8d82-4a43-a7e5-f6e3365183e8",
   "metadata": {},
   "outputs": [
    {
     "data": {
      "text/plain": [
       "device(type='cuda', index=0)"
      ]
     },
     "execution_count": 34,
     "metadata": {},
     "output_type": "execute_result"
    }
   ],
   "source": [
    "train_dataset.features.device"
   ]
  },
  {
   "cell_type": "code",
   "execution_count": 35,
   "id": "2ee12dcb-91f5-49e1-8ec4-15302400732b",
   "metadata": {},
   "outputs": [],
   "source": [
    "# create train and test loader\n",
    "train_loader = DataLoader(train_dataset, batch_size=32, shuffle=True)\n",
    "test_loader = DataLoader(test_dataset, batch_size=32, shuffle=True)"
   ]
  },
  {
   "cell_type": "code",
   "execution_count": 36,
   "id": "a887d92c-37af-4d75-a515-b6b9bbd7b0a6",
   "metadata": {},
   "outputs": [
    {
     "data": {
      "text/plain": [
       "150"
      ]
     },
     "execution_count": 36,
     "metadata": {},
     "output_type": "execute_result"
    }
   ],
   "source": [
    "len(train_loader)"
   ]
  },
  {
   "cell_type": "code",
   "execution_count": 37,
   "id": "9eed20b0-dee3-4a67-9fcd-5674e38fea5d",
   "metadata": {},
   "outputs": [
    {
     "data": {
      "text/plain": [
       "38"
      ]
     },
     "execution_count": 37,
     "metadata": {},
     "output_type": "execute_result"
    }
   ],
   "source": [
    "len(test_loader)"
   ]
  },
  {
   "cell_type": "code",
   "execution_count": 38,
   "id": "2c9bc47f-6015-4d9e-abad-7424d5b5dbb8",
   "metadata": {},
   "outputs": [
    {
     "data": {
      "text/plain": [
       "'cuda'"
      ]
     },
     "execution_count": 38,
     "metadata": {},
     "output_type": "execute_result"
    }
   ],
   "source": [
    "device = \"cuda\" if torch.cuda.is_available() else \"cpu\"\n",
    "device"
   ]
  },
  {
   "cell_type": "code",
   "execution_count": 39,
   "id": "cfa93794-e6e6-42d2-ac80-4cd249a8f5f4",
   "metadata": {},
   "outputs": [],
   "source": [
    "class FufaNN(nn.Module):\n",
    "    def __init__(self, num_features):\n",
    "        super().__init__()\n",
    "        self.network = nn.Sequential(\n",
    "            nn.Linear(num_features, 128),\n",
    "            nn.ReLU(),\n",
    "            nn.Linear(128, 64),\n",
    "            nn.ReLU(),\n",
    "            nn.Linear(64, 10)\n",
    "            # here we dont need to write the softmax code becuase pytorch handles it internally while using crossentropyloss\n",
    "        )\n",
    "\n",
    "    def forward(self, x):\n",
    "        return self.network(x)\n",
    "model = FufaNN(train_dataset.features.shape[1]).to(device)"
   ]
  },
  {
   "cell_type": "code",
   "execution_count": 40,
   "id": "d80d4163-6177-4672-8401-257c1b508944",
   "metadata": {},
   "outputs": [
    {
     "data": {
      "text/plain": [
       "FufaNN(\n",
       "  (network): Sequential(\n",
       "    (0): Linear(in_features=784, out_features=128, bias=True)\n",
       "    (1): ReLU()\n",
       "    (2): Linear(in_features=128, out_features=64, bias=True)\n",
       "    (3): ReLU()\n",
       "    (4): Linear(in_features=64, out_features=10, bias=True)\n",
       "  )\n",
       ")"
      ]
     },
     "execution_count": 40,
     "metadata": {},
     "output_type": "execute_result"
    }
   ],
   "source": [
    "model"
   ]
  },
  {
   "cell_type": "code",
   "execution_count": 41,
   "id": "5a15e833-1f3a-4330-9160-bc6dffe8cf99",
   "metadata": {},
   "outputs": [
    {
     "data": {
      "text/plain": [
       "torch.Size([4800, 784])"
      ]
     },
     "execution_count": 41,
     "metadata": {},
     "output_type": "execute_result"
    }
   ],
   "source": [
    "train_dataset.features.shape"
   ]
  },
  {
   "cell_type": "code",
   "execution_count": 42,
   "id": "3aec122b-e510-47ec-b521-c1bbdc2f502c",
   "metadata": {},
   "outputs": [
    {
     "data": {
      "text/plain": [
       "OrderedDict([('network.0.weight',\n",
       "              tensor([[ 0.0273,  0.0296, -0.0084,  ..., -0.0142,  0.0093,  0.0135],\n",
       "                      [-0.0188, -0.0354,  0.0187,  ..., -0.0106, -0.0001,  0.0115],\n",
       "                      [-0.0008,  0.0017,  0.0045,  ..., -0.0127, -0.0188,  0.0059],\n",
       "                      ...,\n",
       "                      [-0.0195,  0.0034,  0.0302,  ..., -0.0030, -0.0317,  0.0128],\n",
       "                      [-0.0107,  0.0221, -0.0158,  ..., -0.0121,  0.0042,  0.0318],\n",
       "                      [-0.0106,  0.0342,  0.0240,  ...,  0.0091,  0.0174,  0.0041]],\n",
       "                     device='cuda:0')),\n",
       "             ('network.0.bias',\n",
       "              tensor([-8.6770e-04,  2.6513e-02,  2.4231e-02,  3.5641e-03, -3.2895e-02,\n",
       "                       2.1752e-02,  3.3599e-02, -8.3219e-03, -8.0973e-03, -5.9837e-03,\n",
       "                      -1.4779e-03,  3.3858e-02,  1.4686e-02, -3.0424e-02, -1.8899e-02,\n",
       "                      -2.9557e-03, -1.8481e-02, -3.1352e-02,  1.0393e-02,  2.9328e-02,\n",
       "                       7.0543e-03, -4.0150e-03,  3.5635e-02, -1.4162e-02, -2.2133e-02,\n",
       "                      -5.1215e-03, -2.4719e-02, -3.9738e-04, -3.5351e-02, -3.3005e-02,\n",
       "                      -2.7573e-03,  2.1939e-02,  3.9803e-03, -3.4279e-02,  2.9155e-02,\n",
       "                       3.0087e-02, -2.6676e-04,  2.1405e-02,  8.8174e-03, -1.4355e-02,\n",
       "                       1.2270e-02, -5.3779e-03, -1.5487e-02,  3.1040e-02, -2.2855e-02,\n",
       "                       9.1162e-03,  1.8889e-02, -1.1015e-02, -8.5913e-03, -2.3152e-02,\n",
       "                       1.8990e-02, -9.8834e-03, -3.0465e-02,  1.8948e-02, -2.3585e-02,\n",
       "                      -1.2709e-03, -1.4526e-02,  2.5829e-02,  2.0192e-02, -1.7115e-02,\n",
       "                       2.3526e-02, -1.0551e-03,  1.1129e-03,  2.2178e-02, -1.8552e-02,\n",
       "                       4.5698e-03, -1.0542e-02,  1.9431e-02,  2.8546e-02,  1.5695e-02,\n",
       "                       7.7806e-04,  9.3635e-03,  3.1406e-02, -2.8134e-02, -1.0229e-03,\n",
       "                       6.3050e-03, -2.4533e-03,  1.0874e-03, -2.2927e-02,  2.2438e-02,\n",
       "                       5.7441e-03, -1.5675e-02, -2.1585e-02, -2.2644e-02,  7.3817e-03,\n",
       "                       2.7198e-02, -3.5422e-02, -5.8638e-03, -3.2474e-02, -1.7276e-02,\n",
       "                       1.8928e-03, -8.7449e-03, -2.5770e-02,  3.5391e-02,  5.4151e-05,\n",
       "                      -3.4655e-02,  3.0520e-02,  2.5235e-02, -1.4767e-02, -1.2651e-02,\n",
       "                      -3.4195e-02,  1.7802e-02, -3.5721e-03, -2.7433e-02,  5.4493e-03,\n",
       "                      -2.7375e-02, -1.2970e-02, -4.5623e-04,  3.1646e-02,  2.1127e-02,\n",
       "                       3.5145e-02, -1.3539e-02, -6.5116e-04,  3.2230e-02,  2.1751e-02,\n",
       "                       3.4335e-02, -2.1580e-02, -3.1977e-02, -2.0002e-02,  1.4011e-02,\n",
       "                      -2.8185e-02, -4.9786e-03,  2.5989e-02, -1.6305e-02,  2.3888e-02,\n",
       "                      -3.5658e-02, -7.7402e-03, -8.9995e-03], device='cuda:0')),\n",
       "             ('network.2.weight',\n",
       "              tensor([[ 6.9820e-02,  2.8262e-02,  7.4601e-02,  ..., -3.9520e-02,\n",
       "                        1.1044e-02, -2.2170e-02],\n",
       "                      [ 7.1739e-02,  2.4101e-02, -7.7778e-02,  ..., -6.2004e-02,\n",
       "                        7.7825e-03,  3.4117e-02],\n",
       "                      [ 6.8247e-02, -5.8019e-02, -1.4402e-02,  ..., -4.0710e-02,\n",
       "                       -5.7393e-02,  7.7572e-02],\n",
       "                      ...,\n",
       "                      [-6.6011e-02,  7.3897e-02,  3.3835e-02,  ..., -8.2515e-05,\n",
       "                        7.8631e-02,  1.7669e-02],\n",
       "                      [-7.4690e-02,  7.1960e-03, -2.0159e-02,  ...,  5.6012e-02,\n",
       "                        4.7373e-02,  7.4450e-02],\n",
       "                      [ 2.7749e-02,  4.4262e-02,  6.7605e-02,  ...,  3.3107e-02,\n",
       "                        7.1988e-02,  7.7877e-02]], device='cuda:0')),\n",
       "             ('network.2.bias',\n",
       "              tensor([ 0.0396,  0.0365,  0.0323, -0.0626, -0.0586,  0.0615, -0.0532,  0.0090,\n",
       "                       0.0092, -0.0513,  0.0831,  0.0815, -0.0425,  0.0658, -0.0668, -0.0762,\n",
       "                       0.0198,  0.0722, -0.0438, -0.0704,  0.0444,  0.0454, -0.0170,  0.0877,\n",
       "                       0.0302, -0.0383,  0.0180,  0.0210, -0.0586,  0.0109,  0.0197,  0.0066,\n",
       "                      -0.0270,  0.0228, -0.0532,  0.0007,  0.0021,  0.0012, -0.0248, -0.0577,\n",
       "                       0.0785, -0.0001, -0.0275, -0.0553, -0.0548, -0.0388, -0.0573, -0.0466,\n",
       "                      -0.0626,  0.0597,  0.0269, -0.0635, -0.0096,  0.0708,  0.0014,  0.0118,\n",
       "                      -0.0349,  0.0263, -0.0072,  0.0568,  0.0176, -0.0100,  0.0467, -0.0633],\n",
       "                     device='cuda:0')),\n",
       "             ('network.4.weight',\n",
       "              tensor([[ 9.1668e-02,  1.0374e-01, -3.7651e-02,  2.1157e-03,  5.6111e-02,\n",
       "                        6.2494e-02, -1.0738e-01, -5.0951e-02,  2.5270e-02,  1.1592e-02,\n",
       "                        1.1251e-01,  2.8126e-02, -1.1522e-01, -1.0873e-01, -1.0570e-02,\n",
       "                       -9.5919e-02, -8.4428e-02,  1.2202e-01, -8.7306e-02, -2.5479e-02,\n",
       "                        1.8105e-05, -1.2133e-01,  2.9485e-02, -3.9779e-02, -3.0711e-02,\n",
       "                       -9.4250e-02,  5.6977e-02, -2.8823e-03,  1.2409e-01, -2.3217e-02,\n",
       "                       -2.1137e-02,  1.8731e-02, -7.6301e-02, -8.4450e-02,  5.8384e-04,\n",
       "                       -1.1845e-01, -1.2113e-02, -1.1070e-02, -3.3815e-03,  5.6640e-02,\n",
       "                       -6.4919e-02, -2.4337e-02,  4.1774e-02, -1.2363e-01, -8.6477e-02,\n",
       "                        7.1595e-02, -6.6386e-02,  9.7330e-02, -2.1347e-02, -1.2155e-01,\n",
       "                       -3.5512e-02,  1.2443e-01, -8.2130e-02,  1.0181e-01, -1.1061e-01,\n",
       "                        1.0805e-01, -8.6231e-02,  1.0455e-01, -1.1040e-01,  8.5016e-02,\n",
       "                       -1.1601e-01, -1.2375e-01, -1.0561e-01,  5.0149e-02],\n",
       "                      [ 1.0545e-02, -7.6047e-02, -1.2601e-02, -5.7745e-02, -2.2363e-02,\n",
       "                       -1.8058e-02,  6.7195e-02,  2.7611e-02, -2.7763e-02,  1.4032e-02,\n",
       "                       -4.8994e-02,  5.5255e-02,  5.6148e-02,  7.9816e-02,  2.7380e-02,\n",
       "                        2.0057e-02, -1.1146e-01, -4.8984e-02,  1.2261e-01, -1.2944e-02,\n",
       "                        2.0683e-04,  2.6772e-02,  7.5352e-02, -1.3157e-02, -6.3862e-02,\n",
       "                        2.5675e-02, -1.1365e-01, -4.5956e-02, -8.0212e-02, -1.0412e-01,\n",
       "                        1.2252e-01,  1.8095e-02,  9.0574e-02,  1.1786e-01, -1.2263e-01,\n",
       "                       -1.2206e-01,  6.2854e-03,  1.1450e-01,  1.2160e-01, -2.7950e-02,\n",
       "                       -1.0455e-01, -1.3967e-02,  8.9214e-02, -7.0318e-02,  6.7773e-02,\n",
       "                       -6.9716e-02, -8.4107e-02,  5.6526e-02,  5.4357e-03, -1.0055e-01,\n",
       "                        8.6849e-02,  6.5053e-02,  1.6586e-02, -8.5233e-02, -7.3744e-03,\n",
       "                       -3.4479e-02,  9.6000e-02, -7.6224e-02, -1.0412e-01, -8.6767e-02,\n",
       "                        4.2299e-02,  8.6026e-02,  8.0655e-02, -1.1363e-01],\n",
       "                      [-2.3373e-02,  9.3058e-02, -4.8798e-02,  9.2966e-02, -6.7096e-02,\n",
       "                       -7.1276e-02,  2.0015e-02,  1.1702e-01,  5.4289e-02,  6.1629e-02,\n",
       "                        1.1481e-02,  1.1170e-01, -1.6875e-02, -9.9303e-02, -7.9339e-02,\n",
       "                        7.4361e-03, -6.4331e-02, -9.8629e-02, -1.0580e-01, -9.7604e-02,\n",
       "                       -3.6796e-02,  2.5116e-02, -6.5872e-02,  1.1379e-02,  8.4851e-02,\n",
       "                        5.7739e-02,  1.1377e-01,  6.1714e-02,  1.9787e-02,  4.0161e-02,\n",
       "                       -9.5102e-02, -9.4837e-03,  2.1258e-02,  8.3147e-03,  1.2610e-02,\n",
       "                       -4.4976e-02, -5.0138e-02, -4.4731e-02,  7.8216e-02, -1.2191e-01,\n",
       "                        2.1701e-02,  6.7871e-02,  9.9313e-02,  1.5126e-03, -1.1840e-01,\n",
       "                       -6.0543e-02, -7.1716e-04,  8.3428e-02, -1.1019e-01, -6.2131e-02,\n",
       "                       -1.0269e-01, -5.9444e-02, -8.1426e-02, -5.9695e-02,  7.5103e-02,\n",
       "                       -7.5972e-02, -1.1536e-01,  5.8730e-02, -7.5272e-02,  8.4840e-02,\n",
       "                       -6.7863e-02,  7.6399e-02,  7.5564e-02, -1.8718e-02],\n",
       "                      [ 1.0069e-01, -4.1109e-02, -8.3512e-02, -5.0282e-02,  4.8852e-02,\n",
       "                        7.5086e-02,  6.7830e-02,  5.9420e-02,  4.1818e-02, -7.0791e-02,\n",
       "                        2.9028e-02,  4.0223e-02,  1.1902e-01,  1.2167e-01, -9.0848e-02,\n",
       "                       -1.4565e-02, -1.7657e-02, -3.3601e-02,  4.4476e-02,  7.2334e-02,\n",
       "                       -7.4478e-02,  1.1455e-01, -4.9079e-02, -2.4334e-02, -1.0969e-01,\n",
       "                       -5.1543e-02,  1.6067e-02, -2.6543e-02, -6.7884e-02,  4.9944e-02,\n",
       "                        2.7531e-02,  8.1161e-02,  4.4844e-02, -3.5883e-02,  9.2710e-02,\n",
       "                        8.2064e-02, -1.8732e-03,  4.0292e-02,  1.0489e-01,  4.9600e-02,\n",
       "                       -8.5127e-02,  1.6169e-02,  6.2789e-02, -1.9724e-03,  3.1193e-02,\n",
       "                       -1.1429e-01,  3.0167e-02, -1.1318e-01, -1.0277e-01, -1.0062e-01,\n",
       "                       -1.9177e-02, -5.6236e-02, -7.1275e-02, -7.5364e-03,  5.6121e-02,\n",
       "                       -2.0969e-02,  7.0180e-02, -1.8157e-02,  8.3179e-02, -7.8932e-02,\n",
       "                       -5.6039e-02, -9.2954e-02,  8.2238e-02,  3.2420e-02],\n",
       "                      [ 1.2253e-01, -1.7676e-03,  8.7165e-02, -1.0509e-01,  4.6482e-02,\n",
       "                        5.6533e-02, -2.8496e-02,  7.5293e-02, -6.0090e-02, -6.5860e-02,\n",
       "                        3.4846e-02, -2.9991e-02,  8.6715e-02, -4.9160e-02,  4.2427e-02,\n",
       "                        1.6413e-02, -7.5910e-02,  1.0693e-01,  8.1922e-02,  1.0078e-01,\n",
       "                       -1.3485e-02, -1.0516e-01,  1.1217e-01, -9.3003e-02,  4.4823e-02,\n",
       "                        1.2205e-01,  2.0204e-02,  1.6399e-04, -1.0212e-01, -1.2284e-01,\n",
       "                        1.3580e-02,  8.5612e-02, -1.0482e-01,  4.4991e-02,  8.3153e-02,\n",
       "                       -1.5581e-04,  1.0172e-01, -3.0667e-02,  1.0405e-02, -8.2930e-02,\n",
       "                       -1.2443e-01,  1.1913e-01, -1.0358e-01, -6.5235e-02,  8.9206e-02,\n",
       "                       -1.8906e-02, -8.8207e-02, -7.6832e-02,  4.5088e-02,  1.6599e-02,\n",
       "                        6.2784e-02,  6.8775e-02, -4.4318e-02, -2.2287e-02,  7.2749e-03,\n",
       "                        9.5141e-02, -1.3441e-02, -5.1899e-03, -1.1452e-01,  1.2295e-02,\n",
       "                       -1.2142e-01,  8.1342e-02,  5.6458e-03,  1.1365e-01],\n",
       "                      [-5.6299e-02, -7.3908e-02,  3.7301e-03,  3.0508e-02, -1.1981e-01,\n",
       "                       -5.2186e-02,  9.4373e-02, -9.2903e-02,  1.0920e-01,  1.1290e-01,\n",
       "                        9.7230e-02, -2.6155e-03,  6.1585e-02, -8.2731e-02, -1.0187e-01,\n",
       "                        5.6125e-03, -5.4997e-02, -1.1177e-01,  2.0987e-02,  2.5383e-02,\n",
       "                       -8.9626e-02, -5.1132e-02, -4.1275e-02, -2.1132e-02, -8.3285e-02,\n",
       "                       -1.3730e-02, -8.4498e-02, -9.7522e-02,  7.9492e-02,  4.6715e-02,\n",
       "                        2.2852e-02, -5.3202e-02, -8.3489e-02, -1.0946e-01,  6.6722e-02,\n",
       "                        8.9575e-02,  7.9889e-02, -1.0024e-01,  3.4235e-02, -3.8154e-02,\n",
       "                        1.1284e-01,  4.1808e-03,  8.5697e-02,  1.0277e-01, -1.1125e-01,\n",
       "                        1.0222e-01,  1.1083e-01, -7.9519e-02,  4.0094e-02, -1.0631e-01,\n",
       "                        6.0320e-04,  1.0977e-01, -6.2485e-02,  8.5132e-03,  7.4485e-02,\n",
       "                        1.0873e-01, -9.7513e-02,  5.9655e-02, -7.6759e-02, -1.0211e-03,\n",
       "                        1.1932e-01, -6.0403e-02,  2.9855e-02,  5.6949e-02],\n",
       "                      [-9.0372e-02,  1.2296e-01, -9.9886e-02,  4.0263e-02, -6.6516e-03,\n",
       "                        2.6971e-02, -4.9725e-02, -4.0987e-02, -4.1939e-02,  1.3594e-02,\n",
       "                        2.2862e-02,  1.1047e-01, -9.9725e-02,  1.1473e-01, -2.5897e-02,\n",
       "                        3.2382e-02,  2.1815e-03, -3.2940e-02,  5.0507e-02,  2.0541e-02,\n",
       "                        5.4888e-02, -2.9163e-02,  2.7452e-02,  4.8265e-02,  4.2977e-02,\n",
       "                        6.7619e-03,  6.7016e-02,  1.1875e-01, -6.1477e-02,  2.0039e-02,\n",
       "                       -1.1717e-01,  9.0291e-02,  8.9262e-02, -5.1765e-02, -7.4573e-02,\n",
       "                       -1.1129e-01, -9.4296e-02,  1.1154e-02,  5.0148e-02, -6.1019e-02,\n",
       "                        1.0473e-01, -7.0896e-02, -1.0658e-01,  1.2355e-01,  6.3387e-02,\n",
       "                       -1.8564e-03, -2.4776e-02,  2.0586e-02,  1.1851e-01, -9.2341e-02,\n",
       "                        9.6295e-02, -5.9690e-02,  5.4191e-02,  5.6979e-02, -4.3901e-02,\n",
       "                        2.8783e-02, -1.1103e-01, -8.3658e-04, -5.2647e-02,  7.4259e-02,\n",
       "                        1.2189e-01, -9.1581e-02, -9.1730e-02,  9.9450e-04],\n",
       "                      [ 1.5888e-02, -6.6470e-02, -8.2252e-02, -1.8380e-02,  9.2476e-02,\n",
       "                        1.2039e-01,  7.9061e-02, -2.2990e-02, -1.2450e-01,  6.0991e-02,\n",
       "                       -1.8702e-02,  6.5550e-03, -4.8590e-02,  6.6320e-02,  7.5359e-02,\n",
       "                       -1.2112e-01, -2.5820e-02, -9.6877e-02, -3.8849e-02, -9.9623e-02,\n",
       "                        7.9696e-02, -6.4565e-02, -4.9280e-02,  9.2998e-02, -4.7220e-03,\n",
       "                        9.0767e-02, -1.5050e-02,  6.9418e-02,  1.3935e-03, -1.2670e-02,\n",
       "                        4.3334e-02, -7.5136e-02,  7.0893e-02, -9.6954e-02, -4.5756e-02,\n",
       "                       -3.9290e-02,  1.1896e-01, -1.1235e-01, -4.7669e-02,  1.4636e-02,\n",
       "                        7.4554e-02,  1.2107e-01, -9.7935e-02,  1.1873e-02, -1.2019e-01,\n",
       "                       -3.2987e-02, -5.8330e-02, -1.0582e-02, -1.0251e-01, -7.4584e-02,\n",
       "                       -1.1039e-01,  1.0290e-01, -1.0524e-01,  7.9641e-02,  2.2489e-02,\n",
       "                        2.7637e-03, -1.6134e-02,  8.7846e-02,  2.1386e-02, -6.8244e-02,\n",
       "                        2.7638e-02, -8.8106e-02,  4.1863e-02, -3.8184e-02],\n",
       "                      [-1.4960e-03, -1.1781e-01,  2.9294e-02,  2.3026e-02,  4.4445e-02,\n",
       "                       -1.2181e-01, -2.0383e-02,  4.2553e-02,  4.3810e-02, -1.1003e-01,\n",
       "                        4.6142e-02, -1.2461e-01,  3.8284e-02, -9.3833e-02, -2.3468e-02,\n",
       "                       -1.0214e-01, -9.4959e-02, -7.4006e-02, -6.2910e-02,  7.6756e-02,\n",
       "                       -7.7461e-02,  6.3113e-03, -5.1409e-02,  6.6919e-02,  1.1863e-01,\n",
       "                        4.4754e-02,  3.8048e-02,  7.9780e-02,  8.8365e-02,  9.4728e-02,\n",
       "                        1.2052e-01, -8.6071e-02,  1.3640e-02,  8.0416e-02, -9.4433e-02,\n",
       "                       -3.7030e-02, -9.4402e-02,  1.7473e-03, -6.6651e-02, -7.0785e-02,\n",
       "                        6.0263e-02,  5.1694e-02, -1.3624e-02, -3.2607e-02, -5.7696e-02,\n",
       "                       -1.3253e-02, -9.5445e-03, -2.9704e-02,  8.3506e-02,  2.0132e-02,\n",
       "                        8.3190e-02,  3.1698e-02,  7.3497e-02, -2.1672e-02,  9.3987e-02,\n",
       "                        9.4551e-03, -7.1703e-02, -8.1517e-03, -8.8660e-02, -1.2359e-01,\n",
       "                       -5.7347e-02, -3.6508e-02, -4.9731e-02, -1.0362e-01],\n",
       "                      [-8.3070e-02, -9.7968e-02,  6.3029e-02,  1.1890e-01,  7.3309e-02,\n",
       "                        3.8313e-02, -1.7114e-02,  1.0578e-01, -7.8490e-02, -1.1947e-02,\n",
       "                       -1.2459e-01,  1.4899e-02, -2.8861e-02, -6.7292e-02,  8.6405e-02,\n",
       "                        1.0713e-01, -2.5667e-02,  8.1607e-02,  8.8437e-02,  8.5469e-02,\n",
       "                       -4.9126e-02, -3.4021e-02, -5.9645e-02,  6.4202e-02, -6.5505e-02,\n",
       "                       -1.0568e-01,  1.2377e-01,  1.0016e-01,  9.9687e-03,  7.4461e-02,\n",
       "                       -1.4217e-02,  6.2664e-02, -9.3681e-02,  7.0573e-02,  9.9417e-03,\n",
       "                        9.9598e-02, -4.8942e-02, -4.2164e-02,  7.5136e-02,  1.5915e-03,\n",
       "                       -3.1433e-02,  7.1332e-02, -7.1574e-02, -1.0069e-01,  9.6846e-02,\n",
       "                        1.1925e-02,  6.9048e-02, -3.4451e-02,  2.3617e-02,  9.0162e-02,\n",
       "                        5.0323e-03, -9.5961e-02,  7.8738e-02,  8.3132e-02,  4.0410e-02,\n",
       "                        9.9456e-02,  1.9607e-03, -4.5255e-02,  1.1992e-01, -2.7439e-02,\n",
       "                        8.0200e-02,  5.0341e-02,  2.3510e-02, -5.9900e-02]], device='cuda:0')),\n",
       "             ('network.4.bias',\n",
       "              tensor([-0.0686, -0.0864, -0.1143, -0.0198,  0.0907,  0.0477, -0.0011, -0.0775,\n",
       "                      -0.0884,  0.0592], device='cuda:0'))])"
      ]
     },
     "execution_count": 42,
     "metadata": {},
     "output_type": "execute_result"
    }
   ],
   "source": [
    "model.state_dict()"
   ]
  },
  {
   "cell_type": "code",
   "execution_count": 44,
   "id": "2a3de555-2466-47a0-80f1-9489ec66c07e",
   "metadata": {},
   "outputs": [],
   "source": [
    "# loss and optimizer\n",
    "loss_fc = nn.CrossEntropyLoss()\n",
    "optimizer = optim.SGD(model.parameters(), lr=0.01)"
   ]
  },
  {
   "cell_type": "code",
   "execution_count": 48,
   "id": "816c3a11-1257-4e2f-b4e6-67eff99b06d3",
   "metadata": {},
   "outputs": [
    {
     "name": "stdout",
     "output_type": "stream",
     "text": [
      "Epoch: 1 , Loss: 0.08705439866830905\n",
      "Epoch: 2 , Loss: 0.09007844360545278\n",
      "Epoch: 3 , Loss: 0.0788736880881091\n",
      "Epoch: 4 , Loss: 0.08407911409934361\n",
      "Epoch: 5 , Loss: 0.08565281153346102\n",
      "Epoch: 6 , Loss: 0.07808410216743747\n",
      "Epoch: 7 , Loss: 0.07793858642379443\n",
      "Epoch: 8 , Loss: 0.08637721647508442\n",
      "Epoch: 9 , Loss: 0.0745083313435316\n",
      "Epoch: 10 , Loss: 0.07751341244205832\n",
      "Epoch: 11 , Loss: 0.0698985028018554\n",
      "Epoch: 12 , Loss: 0.0762654548510909\n",
      "Epoch: 13 , Loss: 0.07984832984705766\n",
      "Epoch: 14 , Loss: 0.07514774979402622\n",
      "Epoch: 15 , Loss: 0.06894487765928109\n",
      "Epoch: 16 , Loss: 0.0710724295830975\n",
      "Epoch: 17 , Loss: 0.068584068082273\n",
      "Epoch: 18 , Loss: 0.07257000592226784\n",
      "Epoch: 19 , Loss: 0.06771690908819437\n",
      "Epoch: 20 , Loss: 0.06223149896909793\n",
      "Epoch: 21 , Loss: 0.06096562149313589\n",
      "Epoch: 22 , Loss: 0.06732324233278632\n",
      "Epoch: 23 , Loss: 0.07171126104270419\n",
      "Epoch: 24 , Loss: 0.0639541104932626\n",
      "Epoch: 25 , Loss: 0.0696722797739009\n",
      "Epoch: 26 , Loss: 0.05735968514035145\n",
      "Epoch: 27 , Loss: 0.06411289035653074\n",
      "Epoch: 28 , Loss: 0.07263990169391037\n",
      "Epoch: 29 , Loss: 0.0594577075727284\n",
      "Epoch: 30 , Loss: 0.05738175675893823\n",
      "Epoch: 31 , Loss: 0.10732982469722628\n",
      "Epoch: 32 , Loss: 0.05696843293805917\n",
      "Epoch: 33 , Loss: 0.05828858373065789\n",
      "Epoch: 34 , Loss: 0.05022476407078405\n",
      "Epoch: 35 , Loss: 0.0516572724096477\n",
      "Epoch: 36 , Loss: 0.051074058009932435\n",
      "Epoch: 37 , Loss: 0.0536263622622937\n",
      "Epoch: 38 , Loss: 0.05200758052989841\n",
      "Epoch: 39 , Loss: 0.07187005028749506\n",
      "Epoch: 40 , Loss: 0.05329897673800588\n",
      "Epoch: 41 , Loss: 0.05125503810743491\n",
      "Epoch: 42 , Loss: 0.049266349710524085\n",
      "Epoch: 43 , Loss: 0.042366890646517275\n",
      "Epoch: 44 , Loss: 0.045977593241259454\n",
      "Epoch: 45 , Loss: 0.04277454872305195\n",
      "Epoch: 46 , Loss: 0.04619348101628323\n",
      "Epoch: 47 , Loss: 0.04625232234597206\n",
      "Epoch: 48 , Loss: 0.041903319948663316\n",
      "Epoch: 49 , Loss: 0.047443131282925606\n",
      "Epoch: 50 , Loss: 0.040533810403818885\n",
      "Epoch: 51 , Loss: 0.038190920438307026\n",
      "Epoch: 52 , Loss: 0.03642223316244781\n",
      "Epoch: 53 , Loss: 0.04135236163002749\n",
      "Epoch: 54 , Loss: 0.035155712317985796\n",
      "Epoch: 55 , Loss: 0.04063611196974913\n",
      "Epoch: 56 , Loss: 0.0351569114283969\n",
      "Epoch: 57 , Loss: 0.039082879178846876\n",
      "Epoch: 58 , Loss: 0.039165874191870294\n",
      "Epoch: 59 , Loss: 0.04120902289325992\n",
      "Epoch: 60 , Loss: 0.036112127201631664\n",
      "Epoch: 61 , Loss: 0.03707994477978597\n",
      "Epoch: 62 , Loss: 0.031908346641187864\n",
      "Epoch: 63 , Loss: 0.03615539717798432\n",
      "Epoch: 64 , Loss: 0.032121136200924716\n",
      "Epoch: 65 , Loss: 0.03275456840482851\n",
      "Epoch: 66 , Loss: 0.0329876244875292\n",
      "Epoch: 67 , Loss: 0.04875166718227168\n",
      "Epoch: 68 , Loss: 0.033847959986887874\n",
      "Epoch: 69 , Loss: 0.031342684240080416\n",
      "Epoch: 70 , Loss: 0.031426307130604986\n",
      "Epoch: 71 , Loss: 0.025714245109508434\n",
      "Epoch: 72 , Loss: 0.0270469069480896\n",
      "Epoch: 73 , Loss: 0.025205030882110197\n",
      "Epoch: 74 , Loss: 0.02801087310537696\n",
      "Epoch: 75 , Loss: 0.026065111194426813\n",
      "Epoch: 76 , Loss: 0.030765100262748698\n",
      "Epoch: 77 , Loss: 0.02555339116603136\n",
      "Epoch: 78 , Loss: 0.033984557787577314\n",
      "Epoch: 79 , Loss: 0.02759116525761783\n",
      "Epoch: 80 , Loss: 0.025369804231449963\n",
      "Epoch: 81 , Loss: 0.03236133667329947\n",
      "Epoch: 82 , Loss: 0.023164233815235396\n",
      "Epoch: 83 , Loss: 0.023121288626765213\n",
      "Epoch: 84 , Loss: 0.022010735251630345\n",
      "Epoch: 85 , Loss: 0.023886244790628553\n",
      "Epoch: 86 , Loss: 0.021790622249245644\n",
      "Epoch: 87 , Loss: 0.043202114687301216\n",
      "Epoch: 88 , Loss: 0.07510240183211864\n",
      "Epoch: 89 , Loss: 0.026578228004897633\n",
      "Epoch: 90 , Loss: 0.020227804069096845\n",
      "Epoch: 91 , Loss: 0.02825661958816151\n",
      "Epoch: 92 , Loss: 0.022222660874637465\n",
      "Epoch: 93 , Loss: 0.02038046021014452\n",
      "Epoch: 94 , Loss: 0.018805558687696854\n",
      "Epoch: 95 , Loss: 0.018370100208558143\n",
      "Epoch: 96 , Loss: 0.060413527234146995\n",
      "Epoch: 97 , Loss: 0.02060137647824983\n",
      "Epoch: 98 , Loss: 0.023886604833727083\n",
      "Epoch: 99 , Loss: 0.018816064183289807\n",
      "Epoch: 100 , Loss: 0.017078529068579276\n",
      "Total time for training:  1.8896814505259196 Minutes!\n"
     ]
    }
   ],
   "source": [
    "import time\n",
    "\n",
    "start_time = time.time()\n",
    "# training loop\n",
    "epochs = 100\n",
    "\n",
    "for epoch in range(epochs):\n",
    "    total_epoch_loss = 0\n",
    "    for batch_features, batch_labels in train_loader:\n",
    "\n",
    "        # forward pass\n",
    "        outputs = model(batch_features)\n",
    "        # calculate loss\n",
    "        loss = loss_fc(outputs, batch_labels)\n",
    "\n",
    "        optimizer.zero_grad()\n",
    "        # backward pass\n",
    "        loss.backward()\n",
    "        # update grads\n",
    "        optimizer.step()\n",
    "\n",
    "        total_epoch_loss = total_epoch_loss + loss.item()\n",
    "    avg_loss = total_epoch_loss / len(train_loader)\n",
    "    print(f'Epoch: {epoch + 1} , Loss: {avg_loss}')\n",
    "\n",
    "end_time = time.time()\n",
    "print(f\"Total time for training:  {(end_time-start_time) / 60} Minutes!\")"
   ]
  },
  {
   "cell_type": "code",
   "execution_count": 49,
   "id": "1c9c0781-ff5f-490f-96e3-2b3b98d8bc5e",
   "metadata": {},
   "outputs": [
    {
     "name": "stdout",
     "output_type": "stream",
     "text": [
      "1200 985\n",
      "Acuraccy: 0.8208333333333333\n"
     ]
    }
   ],
   "source": [
    "# evaluation code\n",
    "model.eval()\n",
    "total = 0\n",
    "correct = 0\n",
    "\n",
    "with torch.no_grad():\n",
    "\n",
    "    for batch_features, batch_labels in test_loader:\n",
    "        outputs = model(batch_features)\n",
    "\n",
    "        _, predicted = torch.max(outputs, 1)\n",
    "        total = total + batch_labels.shape[0]\n",
    "        correct = correct + (predicted == batch_labels).sum().item()\n",
    "        # print(batch_labels.shape[0])\n",
    "    print(total, correct)\n",
    "    print(\"Acuraccy:\", correct/total)"
   ]
  },
  {
   "cell_type": "code",
   "execution_count": 50,
   "id": "23d30d7a-a6ff-4231-ba61-3e75ee940176",
   "metadata": {},
   "outputs": [
    {
     "data": {
      "text/plain": [
       "0.835"
      ]
     },
     "execution_count": 50,
     "metadata": {},
     "output_type": "execute_result"
    }
   ],
   "source": [
    "1002/1200"
   ]
  },
  {
   "cell_type": "code",
   "execution_count": 51,
   "id": "0e5f0ddb-1589-48a4-aa37-85dac6d074d6",
   "metadata": {},
   "outputs": [
    {
     "data": {
      "text/plain": [
       "0.008333333333333333"
      ]
     },
     "execution_count": 51,
     "metadata": {},
     "output_type": "execute_result"
    }
   ],
   "source": [
    "10/1200"
   ]
  },
  {
   "cell_type": "code",
   "execution_count": null,
   "id": "1a451930-a808-4f30-8b42-7522b4358bad",
   "metadata": {},
   "outputs": [],
   "source": []
  }
 ],
 "metadata": {
  "kernelspec": {
   "display_name": "Python 3 (ipykernel)",
   "language": "python",
   "name": "python3"
  },
  "language_info": {
   "codemirror_mode": {
    "name": "ipython",
    "version": 3
   },
   "file_extension": ".py",
   "mimetype": "text/x-python",
   "name": "python",
   "nbconvert_exporter": "python",
   "pygments_lexer": "ipython3",
   "version": "3.12.1"
  }
 },
 "nbformat": 4,
 "nbformat_minor": 5
}
