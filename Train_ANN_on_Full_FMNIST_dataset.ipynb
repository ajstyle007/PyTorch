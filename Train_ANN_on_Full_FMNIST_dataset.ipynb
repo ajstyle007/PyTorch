{
 "cells": [
  {
   "cell_type": "code",
   "execution_count": 5,
   "id": "10481106-4a4a-48bf-aeb7-c1fbd3eea579",
   "metadata": {},
   "outputs": [],
   "source": [
    "import torch\n",
    "from torch import nn\n",
    "from torch.utils.data import DataLoader, Dataset\n",
    "import torchvision\n",
    "\n",
    "import pandas as pd\n",
    "import numpy as np"
   ]
  },
  {
   "cell_type": "code",
   "execution_count": 2,
   "id": "adb283a2-e1a1-456f-9485-fe78977463df",
   "metadata": {},
   "outputs": [
    {
     "name": "stdout",
     "output_type": "stream",
     "text": [
      "Device Name: NVIDIA GeForce RTX 2050\n",
      "Current Device: 0\n"
     ]
    }
   ],
   "source": [
    "print(\"Device Name:\", torch.cuda.get_device_name(0))\n",
    "print(\"Current Device:\", torch.cuda.current_device())"
   ]
  },
  {
   "cell_type": "code",
   "execution_count": 3,
   "id": "4376cd04-6464-4884-86e2-409b904ba1b3",
   "metadata": {},
   "outputs": [
    {
     "data": {
      "text/plain": [
       "0"
      ]
     },
     "execution_count": 3,
     "metadata": {},
     "output_type": "execute_result"
    }
   ],
   "source": [
    "torch.cuda.memory_allocated()"
   ]
  },
  {
   "cell_type": "code",
   "execution_count": 6,
   "id": "04c0f9d8-33d8-48ec-96ed-987a5ff08bef",
   "metadata": {},
   "outputs": [],
   "source": [
    "train_dataset = pd.read_csv(\"fashion-mnist_train.csv\")\n",
    "test_dataset = pd.read_csv(\"fashion-mnist_test.csv\")"
   ]
  },
  {
   "cell_type": "code",
   "execution_count": 7,
   "id": "b6140d36-28b6-4d07-8378-4a21232e109c",
   "metadata": {},
   "outputs": [
    {
     "data": {
      "text/plain": [
       "<torch._C.Generator at 0x257503695d0>"
      ]
     },
     "execution_count": 7,
     "metadata": {},
     "output_type": "execute_result"
    }
   ],
   "source": [
    "torch.manual_seed(42)"
   ]
  },
  {
   "cell_type": "code",
   "execution_count": 8,
   "id": "dadd3d6b-0011-4dea-85ea-777cfa5ff62b",
   "metadata": {},
   "outputs": [
    {
     "data": {
      "text/html": [
       "<div>\n",
       "<style scoped>\n",
       "    .dataframe tbody tr th:only-of-type {\n",
       "        vertical-align: middle;\n",
       "    }\n",
       "\n",
       "    .dataframe tbody tr th {\n",
       "        vertical-align: top;\n",
       "    }\n",
       "\n",
       "    .dataframe thead th {\n",
       "        text-align: right;\n",
       "    }\n",
       "</style>\n",
       "<table border=\"1\" class=\"dataframe\">\n",
       "  <thead>\n",
       "    <tr style=\"text-align: right;\">\n",
       "      <th></th>\n",
       "      <th>label</th>\n",
       "      <th>pixel1</th>\n",
       "      <th>pixel2</th>\n",
       "      <th>pixel3</th>\n",
       "      <th>pixel4</th>\n",
       "      <th>pixel5</th>\n",
       "      <th>pixel6</th>\n",
       "      <th>pixel7</th>\n",
       "      <th>pixel8</th>\n",
       "      <th>pixel9</th>\n",
       "      <th>...</th>\n",
       "      <th>pixel775</th>\n",
       "      <th>pixel776</th>\n",
       "      <th>pixel777</th>\n",
       "      <th>pixel778</th>\n",
       "      <th>pixel779</th>\n",
       "      <th>pixel780</th>\n",
       "      <th>pixel781</th>\n",
       "      <th>pixel782</th>\n",
       "      <th>pixel783</th>\n",
       "      <th>pixel784</th>\n",
       "    </tr>\n",
       "  </thead>\n",
       "  <tbody>\n",
       "    <tr>\n",
       "      <th>0</th>\n",
       "      <td>2</td>\n",
       "      <td>0</td>\n",
       "      <td>0</td>\n",
       "      <td>0</td>\n",
       "      <td>0</td>\n",
       "      <td>0</td>\n",
       "      <td>0</td>\n",
       "      <td>0</td>\n",
       "      <td>0</td>\n",
       "      <td>0</td>\n",
       "      <td>...</td>\n",
       "      <td>0</td>\n",
       "      <td>0</td>\n",
       "      <td>0</td>\n",
       "      <td>0</td>\n",
       "      <td>0</td>\n",
       "      <td>0</td>\n",
       "      <td>0</td>\n",
       "      <td>0</td>\n",
       "      <td>0</td>\n",
       "      <td>0</td>\n",
       "    </tr>\n",
       "    <tr>\n",
       "      <th>1</th>\n",
       "      <td>9</td>\n",
       "      <td>0</td>\n",
       "      <td>0</td>\n",
       "      <td>0</td>\n",
       "      <td>0</td>\n",
       "      <td>0</td>\n",
       "      <td>0</td>\n",
       "      <td>0</td>\n",
       "      <td>0</td>\n",
       "      <td>0</td>\n",
       "      <td>...</td>\n",
       "      <td>0</td>\n",
       "      <td>0</td>\n",
       "      <td>0</td>\n",
       "      <td>0</td>\n",
       "      <td>0</td>\n",
       "      <td>0</td>\n",
       "      <td>0</td>\n",
       "      <td>0</td>\n",
       "      <td>0</td>\n",
       "      <td>0</td>\n",
       "    </tr>\n",
       "    <tr>\n",
       "      <th>2</th>\n",
       "      <td>6</td>\n",
       "      <td>0</td>\n",
       "      <td>0</td>\n",
       "      <td>0</td>\n",
       "      <td>0</td>\n",
       "      <td>0</td>\n",
       "      <td>0</td>\n",
       "      <td>0</td>\n",
       "      <td>5</td>\n",
       "      <td>0</td>\n",
       "      <td>...</td>\n",
       "      <td>0</td>\n",
       "      <td>0</td>\n",
       "      <td>0</td>\n",
       "      <td>30</td>\n",
       "      <td>43</td>\n",
       "      <td>0</td>\n",
       "      <td>0</td>\n",
       "      <td>0</td>\n",
       "      <td>0</td>\n",
       "      <td>0</td>\n",
       "    </tr>\n",
       "    <tr>\n",
       "      <th>3</th>\n",
       "      <td>0</td>\n",
       "      <td>0</td>\n",
       "      <td>0</td>\n",
       "      <td>0</td>\n",
       "      <td>1</td>\n",
       "      <td>2</td>\n",
       "      <td>0</td>\n",
       "      <td>0</td>\n",
       "      <td>0</td>\n",
       "      <td>0</td>\n",
       "      <td>...</td>\n",
       "      <td>3</td>\n",
       "      <td>0</td>\n",
       "      <td>0</td>\n",
       "      <td>0</td>\n",
       "      <td>0</td>\n",
       "      <td>1</td>\n",
       "      <td>0</td>\n",
       "      <td>0</td>\n",
       "      <td>0</td>\n",
       "      <td>0</td>\n",
       "    </tr>\n",
       "    <tr>\n",
       "      <th>4</th>\n",
       "      <td>3</td>\n",
       "      <td>0</td>\n",
       "      <td>0</td>\n",
       "      <td>0</td>\n",
       "      <td>0</td>\n",
       "      <td>0</td>\n",
       "      <td>0</td>\n",
       "      <td>0</td>\n",
       "      <td>0</td>\n",
       "      <td>0</td>\n",
       "      <td>...</td>\n",
       "      <td>0</td>\n",
       "      <td>0</td>\n",
       "      <td>0</td>\n",
       "      <td>0</td>\n",
       "      <td>0</td>\n",
       "      <td>0</td>\n",
       "      <td>0</td>\n",
       "      <td>0</td>\n",
       "      <td>0</td>\n",
       "      <td>0</td>\n",
       "    </tr>\n",
       "  </tbody>\n",
       "</table>\n",
       "<p>5 rows × 785 columns</p>\n",
       "</div>"
      ],
      "text/plain": [
       "   label  pixel1  pixel2  pixel3  pixel4  pixel5  pixel6  pixel7  pixel8  \\\n",
       "0      2       0       0       0       0       0       0       0       0   \n",
       "1      9       0       0       0       0       0       0       0       0   \n",
       "2      6       0       0       0       0       0       0       0       5   \n",
       "3      0       0       0       0       1       2       0       0       0   \n",
       "4      3       0       0       0       0       0       0       0       0   \n",
       "\n",
       "   pixel9  ...  pixel775  pixel776  pixel777  pixel778  pixel779  pixel780  \\\n",
       "0       0  ...         0         0         0         0         0         0   \n",
       "1       0  ...         0         0         0         0         0         0   \n",
       "2       0  ...         0         0         0        30        43         0   \n",
       "3       0  ...         3         0         0         0         0         1   \n",
       "4       0  ...         0         0         0         0         0         0   \n",
       "\n",
       "   pixel781  pixel782  pixel783  pixel784  \n",
       "0         0         0         0         0  \n",
       "1         0         0         0         0  \n",
       "2         0         0         0         0  \n",
       "3         0         0         0         0  \n",
       "4         0         0         0         0  \n",
       "\n",
       "[5 rows x 785 columns]"
      ]
     },
     "execution_count": 8,
     "metadata": {},
     "output_type": "execute_result"
    }
   ],
   "source": [
    "train_dataset.head()"
   ]
  },
  {
   "cell_type": "code",
   "execution_count": 9,
   "id": "70e4e965-9b64-472e-a98e-f7e4854b76ac",
   "metadata": {},
   "outputs": [
    {
     "data": {
      "text/plain": [
       "(60000, 785)"
      ]
     },
     "execution_count": 9,
     "metadata": {},
     "output_type": "execute_result"
    }
   ],
   "source": [
    "train_dataset.shape"
   ]
  },
  {
   "cell_type": "code",
   "execution_count": 10,
   "id": "0973e8b3-6945-425a-b6c5-b54742434482",
   "metadata": {},
   "outputs": [
    {
     "data": {
      "text/plain": [
       "(10000, 785)"
      ]
     },
     "execution_count": 10,
     "metadata": {},
     "output_type": "execute_result"
    }
   ],
   "source": [
    "test_dataset.shape"
   ]
  },
  {
   "cell_type": "code",
   "execution_count": 11,
   "id": "304beda9-5fa5-4d4b-966b-a3c45cb68f84",
   "metadata": {},
   "outputs": [
    {
     "data": {
      "text/plain": [
       "'cuda'"
      ]
     },
     "execution_count": 11,
     "metadata": {},
     "output_type": "execute_result"
    }
   ],
   "source": [
    "device = \"cuda\" if torch.cuda.is_available() else \"cpu\"\n",
    "device"
   ]
  },
  {
   "cell_type": "code",
   "execution_count": 13,
   "id": "a21a2172-0f58-4818-8792-8e92c94d4026",
   "metadata": {},
   "outputs": [
    {
     "data": {
      "image/png": "[encoded data removed]",
      "text/plain": [
       "<Figure size 1000x1000 with 16 Axes>"
      ]
     },
     "metadata": {},
     "output_type": "display_data"
    }
   ],
   "source": [
    "import matplotlib.pyplot as plt\n",
    "# Create a 4x4 grid of images\n",
    "fig, axes = plt.subplots(4, 4, figsize=(10, 10))\n",
    "fig.suptitle(\"First 16 Images\", fontsize=16)\n",
    "\n",
    "# Plot the first 16 images from the dataset\n",
    "for i, ax in enumerate(axes.flat):\n",
    "    img = train_dataset.iloc[i, 1:].values.reshape(28, 28)  # Reshape to 28x28\n",
    "    ax.imshow(img, cmap=\"gray\")  # Display in grayscale\n",
    "    ax.axis('off')  # Remove axis for a cleaner look\n",
    "    ax.set_title(f\"Label: {train_dataset.iloc[i, 0]}\")  # Show the label\n",
    "\n",
    "plt.tight_layout(rect=[0, 0, 1, 0.96])  # Adjust layout to fit the title\n",
    "plt.show()"
   ]
  },
  {
   "cell_type": "code",
   "execution_count": 15,
   "id": "fcea011c-dd82-4333-96a0-2b955a073b3b",
   "metadata": {},
   "outputs": [],
   "source": [
    "from sklearn.model_selection import train_test_split"
   ]
  },
  {
   "cell_type": "code",
   "execution_count": 17,
   "id": "724f673f-e42f-48fc-bf05-4487710f3e43",
   "metadata": {},
   "outputs": [],
   "source": [
    "X = train_dataset.iloc[:,1:]"
   ]
  },
  {
   "cell_type": "code",
   "execution_count": 20,
   "id": "1e7f6087-0f1d-4b0e-bd35-e28d1566bc63",
   "metadata": {},
   "outputs": [],
   "source": [
    "y = train_dataset.iloc[:,0]"
   ]
  },
  {
   "cell_type": "code",
   "execution_count": null,
   "id": "86e7a7a5-fc29-4274-bce6-e9283db7325c",
   "metadata": {},
   "outputs": [],
   "source": []
  },
  {
   "cell_type": "code",
   "execution_count": 22,
   "id": "a8efbbcf-0422-444e-b7d6-0b9c89bb005e",
   "metadata": {},
   "outputs": [],
   "source": [
    "#train test split\n",
    "X_train, X_test, y_train, y_test = train_test_split(X, y, test_size=0.2, random_state=42)"
   ]
  },
  {
   "cell_type": "code",
   "execution_count": null,
   "id": "028ef391-5a0c-4564-aa30-10a4a0ef393b",
   "metadata": {},
   "outputs": [],
   "source": []
  },
  {
   "cell_type": "code",
   "execution_count": 23,
   "id": "7ac6b846-8749-4fc7-8855-fd3513f90b3a",
   "metadata": {},
   "outputs": [],
   "source": [
    "# scaling the feautures\n",
    "X_train = X_train/255.0\n",
    "X_test = X_test/255.0"
   ]
  },
  {
   "cell_type": "code",
   "execution_count": 24,
   "id": "d8762481-cad7-4f53-8d3c-7c1537e3c3e4",
   "metadata": {},
   "outputs": [],
   "source": [
    "# create CustomDataset Class\n",
    "class CustomDataset(Dataset):\n",
    "\n",
    "  def __init__(self, features, labels):\n",
    "\n",
    "    self.features = torch.tensor(features, dtype=torch.float32).cuda()\n",
    "    self.labels = torch.tensor(labels, dtype=torch.long).cuda()\n",
    "\n",
    "  def __len__(self):\n",
    "\n",
    "    return len(self.features)\n",
    "\n",
    "  def __getitem__(self, index):\n",
    "\n",
    "    return self.features[index], self.labels[index]"
   ]
  },
  {
   "cell_type": "code",
   "execution_count": 27,
   "id": "c11a11b7-7c9d-477d-98aa-0a1effa02f4f",
   "metadata": {},
   "outputs": [],
   "source": [
    "# create train_dataset object\n",
    "train_dataset = CustomDataset(X_train.values, y_train.values)"
   ]
  },
  {
   "cell_type": "code",
   "execution_count": 29,
   "id": "2f2b2942-6c96-43c1-b125-b67a81270bfb",
   "metadata": {},
   "outputs": [],
   "source": [
    "# create test_dataset object\n",
    "test_dataset = CustomDataset(X_test.values, y_test.values)"
   ]
  },
  {
   "cell_type": "code",
   "execution_count": 30,
   "id": "6b437c45-d5d5-44c1-b4c4-a2bed118b2d8",
   "metadata": {},
   "outputs": [],
   "source": [
    "# create train and test loader\n",
    "train_loader = DataLoader(train_dataset, batch_size=64, shuffle=True)\n",
    "test_loader = DataLoader(test_dataset, batch_size=64, shuffle=True)"
   ]
  },
  {
   "cell_type": "code",
   "execution_count": 31,
   "id": "13a62c90-cacc-43fb-bafb-4196fdd1f3b8",
   "metadata": {},
   "outputs": [
    {
     "data": {
      "text/plain": [
       "750"
      ]
     },
     "execution_count": 31,
     "metadata": {},
     "output_type": "execute_result"
    }
   ],
   "source": [
    "len(train_loader)"
   ]
  },
  {
   "cell_type": "code",
   "execution_count": 32,
   "id": "daff4bf3-e137-4093-9cf5-396a8608634c",
   "metadata": {},
   "outputs": [
    {
     "data": {
      "text/plain": [
       "188"
      ]
     },
     "execution_count": 32,
     "metadata": {},
     "output_type": "execute_result"
    }
   ],
   "source": [
    "len(test_loader)"
   ]
  },
  {
   "cell_type": "code",
   "execution_count": 33,
   "id": "3d6c026f-60c4-4dad-bd9c-1a734ee474d7",
   "metadata": {},
   "outputs": [
    {
     "data": {
      "text/plain": [
       "784"
      ]
     },
     "execution_count": 33,
     "metadata": {},
     "output_type": "execute_result"
    }
   ],
   "source": [
    "train_dataset.features.shape[1]"
   ]
  },
  {
   "cell_type": "code",
   "execution_count": 34,
   "id": "7f7ef784-4c12-406a-bd81-7ba42f1d4025",
   "metadata": {},
   "outputs": [],
   "source": [
    "class FufaNN(nn.Module):\n",
    "    def __init__(self, num_features):\n",
    "        super().__init__()\n",
    "        self.network = nn.Sequential(\n",
    "            nn.Linear(num_features, 128),\n",
    "            nn.ReLU(),\n",
    "            nn.Linear(128, 64),\n",
    "            nn.ReLU(),\n",
    "            nn.Linear(64, 10)\n",
    "            # here we dont need to write the softmax code becuase pytorch handles it internally while using crossentropyloss\n",
    "        )\n",
    "\n",
    "    def forward(self, x):\n",
    "        return self.network(x)\n",
    "model = FufaNN(train_dataset.features.shape[1]).to(device)"
   ]
  },
  {
   "cell_type": "code",
   "execution_count": 35,
   "id": "d751a18e-366d-4ea1-a726-2caa3e77ad06",
   "metadata": {},
   "outputs": [],
   "source": [
    "loss_fc = nn.CrossEntropyLoss()\n",
    "optimizer = torch.optim.SGD(model.parameters(), lr=0.01)"
   ]
  },
  {
   "cell_type": "code",
   "execution_count": 36,
   "id": "3d87ffc7-05fb-4fde-bc3c-55f19c55560c",
   "metadata": {},
   "outputs": [
    {
     "name": "stdout",
     "output_type": "stream",
     "text": [
      "Epoch: 1 , Loss: 1.570167042096456\n",
      "Epoch: 2 , Loss: 0.7864405195315679\n",
      "Epoch: 3 , Loss: 0.6477659802834193\n",
      "Epoch: 4 , Loss: 0.5766551177899043\n",
      "Epoch: 5 , Loss: 0.533208113749822\n",
      "Epoch: 6 , Loss: 0.50862065076828\n",
      "Epoch: 7 , Loss: 0.4883606270949046\n",
      "Epoch: 8 , Loss: 0.4734292020400365\n",
      "Epoch: 9 , Loss: 0.46155828364690143\n",
      "Epoch: 10 , Loss: 0.45136373533805213\n",
      "Epoch: 11 , Loss: 0.44145345960060756\n",
      "Epoch: 12 , Loss: 0.4320735406478246\n",
      "Epoch: 13 , Loss: 0.4257844049135844\n",
      "Epoch: 14 , Loss: 0.4186328670581182\n",
      "Epoch: 15 , Loss: 0.41415403709808984\n",
      "Epoch: 16 , Loss: 0.4080498971939087\n",
      "Epoch: 17 , Loss: 0.40150490111112597\n",
      "Epoch: 18 , Loss: 0.3962661226391792\n",
      "Epoch: 19 , Loss: 0.39156668265660605\n",
      "Epoch: 20 , Loss: 0.38824006301164626\n",
      "Epoch: 21 , Loss: 0.3839801571170489\n",
      "Epoch: 22 , Loss: 0.37872982368866603\n",
      "Epoch: 23 , Loss: 0.3749736738006274\n",
      "Epoch: 24 , Loss: 0.3722473280231158\n",
      "Epoch: 25 , Loss: 0.3674630636870861\n",
      "Epoch: 26 , Loss: 0.36476218754053114\n",
      "Epoch: 27 , Loss: 0.360023323794206\n",
      "Epoch: 28 , Loss: 0.35778290406862895\n",
      "Epoch: 29 , Loss: 0.35456940776109697\n",
      "Epoch: 30 , Loss: 0.3512174741824468\n",
      "Epoch: 31 , Loss: 0.3488675392270088\n",
      "Epoch: 32 , Loss: 0.34588276823361713\n",
      "Epoch: 33 , Loss: 0.3418239041566849\n",
      "Epoch: 34 , Loss: 0.33941642634073893\n",
      "Epoch: 35 , Loss: 0.335838014403979\n",
      "Epoch: 36 , Loss: 0.33401901242136955\n",
      "Epoch: 37 , Loss: 0.33209253883361817\n",
      "Epoch: 38 , Loss: 0.32845435454448063\n",
      "Epoch: 39 , Loss: 0.32584167089064914\n",
      "Epoch: 40 , Loss: 0.32249230735500656\n",
      "Epoch: 41 , Loss: 0.3197518099049727\n",
      "Epoch: 42 , Loss: 0.31741483055551845\n",
      "Epoch: 43 , Loss: 0.3144898089071115\n",
      "Epoch: 44 , Loss: 0.3120324532985687\n",
      "Epoch: 45 , Loss: 0.30891864066322644\n",
      "Epoch: 46 , Loss: 0.30673995380600294\n",
      "Epoch: 47 , Loss: 0.3054158585568269\n",
      "Epoch: 48 , Loss: 0.30200984939932823\n",
      "Epoch: 49 , Loss: 0.3002987523078918\n",
      "Epoch: 50 , Loss: 0.2970726697742939\n",
      "Epoch: 51 , Loss: 0.2952519105275472\n",
      "Epoch: 52 , Loss: 0.29257306494315466\n",
      "Epoch: 53 , Loss: 0.28923223808407783\n",
      "Epoch: 54 , Loss: 0.2882093568940957\n",
      "Epoch: 55 , Loss: 0.2861496835251649\n",
      "Epoch: 56 , Loss: 0.28288168082634607\n",
      "Epoch: 57 , Loss: 0.2811340735852718\n",
      "Epoch: 58 , Loss: 0.2797386177082857\n",
      "Epoch: 59 , Loss: 0.2769479335049788\n",
      "Epoch: 60 , Loss: 0.2751706240773201\n",
      "Epoch: 61 , Loss: 0.2742179317077001\n",
      "Epoch: 62 , Loss: 0.27172717773914334\n",
      "Epoch: 63 , Loss: 0.27006629995505016\n",
      "Epoch: 64 , Loss: 0.2675962342719237\n",
      "Epoch: 65 , Loss: 0.2657726786136627\n",
      "Epoch: 66 , Loss: 0.26477124748627345\n",
      "Epoch: 67 , Loss: 0.26080218611160916\n",
      "Epoch: 68 , Loss: 0.26085270854830744\n",
      "Epoch: 69 , Loss: 0.2577681655685107\n",
      "Epoch: 70 , Loss: 0.25595730138818423\n",
      "Epoch: 71 , Loss: 0.25467130908370017\n",
      "Epoch: 72 , Loss: 0.25318857438862324\n",
      "Epoch: 73 , Loss: 0.2516772559632858\n",
      "Epoch: 74 , Loss: 0.24997281975547472\n",
      "Epoch: 75 , Loss: 0.24797787354389828\n",
      "Epoch: 76 , Loss: 0.24522304914395016\n",
      "Epoch: 77 , Loss: 0.24344933836162092\n",
      "Epoch: 78 , Loss: 0.24289747176567714\n",
      "Epoch: 79 , Loss: 0.24221401811142762\n",
      "Epoch: 80 , Loss: 0.23907222789525986\n",
      "Epoch: 81 , Loss: 0.23812157915035884\n",
      "Epoch: 82 , Loss: 0.23584747216105462\n",
      "Epoch: 83 , Loss: 0.2342609772781531\n",
      "Epoch: 84 , Loss: 0.2338411634216706\n",
      "Epoch: 85 , Loss: 0.23149491119384766\n",
      "Epoch: 86 , Loss: 0.23079549367229144\n",
      "Epoch: 87 , Loss: 0.2285078147749106\n",
      "Epoch: 88 , Loss: 0.22709431314468384\n",
      "Epoch: 89 , Loss: 0.22519282730917137\n",
      "Epoch: 90 , Loss: 0.22364042963584263\n",
      "Epoch: 91 , Loss: 0.22274815133213996\n",
      "Epoch: 92 , Loss: 0.2210384296774864\n",
      "Epoch: 93 , Loss: 0.21859415155649184\n",
      "Epoch: 94 , Loss: 0.2167115963548422\n",
      "Epoch: 95 , Loss: 0.21645989393194517\n",
      "Epoch: 96 , Loss: 0.2139504871368408\n",
      "Epoch: 97 , Loss: 0.212560718908906\n",
      "Epoch: 98 , Loss: 0.21285089602073035\n",
      "Epoch: 99 , Loss: 0.20971394935746987\n",
      "Epoch: 100 , Loss: 0.2077207817385594\n"
     ]
    }
   ],
   "source": [
    "# training loop\n",
    "epochs = 100\n",
    "\n",
    "for epoch in range(epochs):\n",
    "\n",
    "  total_epoch_loss = 0\n",
    "\n",
    "  for batch_features, batch_labels in train_loader:\n",
    "\n",
    "    # move data to gpu\n",
    "    batch_features, batch_labels = batch_features.to(device), batch_labels.to(device)\n",
    "\n",
    "    # forward pass\n",
    "    outputs = model(batch_features)\n",
    "\n",
    "    # calculate loss\n",
    "    loss = loss_fc(outputs, batch_labels)\n",
    "\n",
    "    # back pass\n",
    "    optimizer.zero_grad()\n",
    "    loss.backward()\n",
    "\n",
    "    # update grads\n",
    "    optimizer.step()\n",
    "\n",
    "    total_epoch_loss = total_epoch_loss + loss.item()\n",
    "\n",
    "  avg_loss = total_epoch_loss/len(train_loader)\n",
    "  print(f'Epoch: {epoch + 1} , Loss: {avg_loss}')"
   ]
  },
  {
   "cell_type": "code",
   "execution_count": 37,
   "id": "c4938501-1c12-49d3-b02c-4186b3fe360a",
   "metadata": {},
   "outputs": [
    {
     "name": "stdout",
     "output_type": "stream",
     "text": [
      "0.8824166666666666\n"
     ]
    }
   ],
   "source": [
    "# evaluation on test data\n",
    "model.eval()\n",
    "total = 0\n",
    "correct = 0\n",
    "\n",
    "with torch.no_grad():\n",
    "\n",
    "  for batch_features, batch_labels in test_loader:\n",
    "\n",
    "    # move data to gpu\n",
    "    batch_features, batch_labels = batch_features.to(device), batch_labels.to(device)\n",
    "\n",
    "    outputs = model(batch_features)\n",
    "\n",
    "    _, predicted = torch.max(outputs, 1)\n",
    "\n",
    "    total = total + batch_labels.shape[0]\n",
    "\n",
    "    correct = correct + (predicted == batch_labels).sum().item()\n",
    "\n",
    "print(correct/total)"
   ]
  },
  {
   "cell_type": "code",
   "execution_count": 38,
   "id": "8353b178-316b-4a39-98bd-eb8dec2638fd",
   "metadata": {},
   "outputs": [
    {
     "name": "stdout",
     "output_type": "stream",
     "text": [
      "0.927875\n"
     ]
    }
   ],
   "source": [
    "# evaluation on test data\n",
    "model.eval()\n",
    "total = 0\n",
    "correct = 0\n",
    "\n",
    "with torch.no_grad():\n",
    "\n",
    "  for batch_features, batch_labels in train_loader:\n",
    "\n",
    "    # move data to gpu\n",
    "    batch_features, batch_labels = batch_features.to(device), batch_labels.to(device)\n",
    "\n",
    "    outputs = model(batch_features)\n",
    "\n",
    "    _, predicted = torch.max(outputs, 1)\n",
    "\n",
    "    total = total + batch_labels.shape[0]\n",
    "\n",
    "    correct = correct + (predicted == batch_labels).sum().item()\n",
    "\n",
    "print(correct/total)"
   ]
  },
  {
   "cell_type": "code",
   "execution_count": 39,
   "id": "3b6d7e9a-53ff-4aa9-adcb-70e66f5da9bf",
   "metadata": {},
   "outputs": [],
   "source": [
    "# our model is little overfitting"
   ]
  },
  {
   "cell_type": "markdown",
   "id": "53d4d991-9f41-4711-8e17-3f42041221cf",
   "metadata": {},
   "source": [
    "# After optimization"
   ]
  },
  {
   "cell_type": "markdown",
   "id": "3efc16a6-8daa-499c-8f6a-df46cd329eec",
   "metadata": {},
   "source": [
    "### To Optimize our model we can do following things\n",
    "- Adding more data\n",
    "- Reducing complexity of our NN architecture\n",
    "- Regularization >> In deep learning we more use L2\n",
    "- Dropouts\n",
    "- Data Augmentaion >> Work better with CNN\n",
    "- Batch Normalization \n",
    "- Early Stopping"
   ]
  },
  {
   "cell_type": "code",
   "execution_count": 53,
   "id": "2aef493d-6319-43e0-b284-e070f1644ed6",
   "metadata": {},
   "outputs": [],
   "source": [
    "class FufaNN(nn.Module):\n",
    "    def __init__(self, num_features):\n",
    "        super().__init__()\n",
    "        self.network = nn.Sequential(\n",
    "            nn.Linear(num_features, 128),\n",
    "            nn.BatchNorm1d(128),\n",
    "            nn.ReLU(),\n",
    "            nn.Dropout(p=0.4),\n",
    "            nn.Linear(128, 64),\n",
    "            nn.BatchNorm1d(64),\n",
    "            nn.ReLU(),\n",
    "            nn.Dropout(p=0.4),\n",
    "            nn.Linear(64, 10)\n",
    "            # here we dont need to write the softmax code becuase pytorch handles it internally while using crossentropyloss\n",
    "        )\n",
    "\n",
    "    def forward(self, x):\n",
    "        return self.network(x)\n",
    "model = FufaNN(train_dataset.features.shape[1]).to(device)"
   ]
  },
  {
   "cell_type": "code",
   "execution_count": 54,
   "id": "54c8095c-b4c4-4406-b750-bb0b962942a1",
   "metadata": {},
   "outputs": [],
   "source": [
    "loss_fc = nn.CrossEntropyLoss()\n",
    "optimizer = torch.optim.SGD(model.parameters(), lr=0.01, weight_decay=1e-4)"
   ]
  },
  {
   "cell_type": "code",
   "execution_count": 55,
   "id": "52abe172-6dc3-4fc5-ba95-df9241dfa461",
   "metadata": {},
   "outputs": [
    {
     "name": "stdout",
     "output_type": "stream",
     "text": [
      "Epoch: 1 , Loss: 1.0384459110498427\n",
      "Epoch: 2 , Loss: 0.6756653441985448\n",
      "Epoch: 3 , Loss: 0.5970512015422186\n",
      "Epoch: 4 , Loss: 0.5535572859247525\n",
      "Epoch: 5 , Loss: 0.5355615862806639\n",
      "Epoch: 6 , Loss: 0.5114861050844193\n",
      "Epoch: 7 , Loss: 0.49598128787676493\n",
      "Epoch: 8 , Loss: 0.48511381264527637\n",
      "Epoch: 9 , Loss: 0.46949052407344183\n",
      "Epoch: 10 , Loss: 0.4628350568811099\n",
      "Epoch: 11 , Loss: 0.455747517824173\n",
      "Epoch: 12 , Loss: 0.4430164634982745\n",
      "Epoch: 13 , Loss: 0.4352995769381523\n",
      "Epoch: 14 , Loss: 0.4327872295379639\n",
      "Epoch: 15 , Loss: 0.4234673221707344\n",
      "Epoch: 16 , Loss: 0.42278726424773533\n",
      "Epoch: 17 , Loss: 0.41728230090936025\n",
      "Epoch: 18 , Loss: 0.4081768334507942\n",
      "Epoch: 19 , Loss: 0.40671728597084683\n",
      "Epoch: 20 , Loss: 0.40132187455892565\n",
      "Epoch: 21 , Loss: 0.3968359819948673\n",
      "Epoch: 22 , Loss: 0.39595335054397585\n",
      "Epoch: 23 , Loss: 0.39267852568626405\n",
      "Epoch: 24 , Loss: 0.38652655617396037\n",
      "Epoch: 25 , Loss: 0.38420321949323016\n",
      "Epoch: 26 , Loss: 0.37711990815401075\n",
      "Epoch: 27 , Loss: 0.37638190205891925\n",
      "Epoch: 28 , Loss: 0.37314168322086333\n",
      "Epoch: 29 , Loss: 0.3690738353729248\n",
      "Epoch: 30 , Loss: 0.36796153742074966\n",
      "Epoch: 31 , Loss: 0.36641205073396366\n",
      "Epoch: 32 , Loss: 0.3621892670591672\n",
      "Epoch: 33 , Loss: 0.36209322381019593\n",
      "Epoch: 34 , Loss: 0.35720341525475185\n",
      "Epoch: 35 , Loss: 0.3562404881119728\n",
      "Epoch: 36 , Loss: 0.3509474155108134\n",
      "Epoch: 37 , Loss: 0.35034201880296073\n",
      "Epoch: 38 , Loss: 0.34861921683947245\n",
      "Epoch: 39 , Loss: 0.3473798721432686\n",
      "Epoch: 40 , Loss: 0.34185890916983286\n",
      "Epoch: 41 , Loss: 0.3441274564663569\n",
      "Epoch: 42 , Loss: 0.34043322823445005\n",
      "Epoch: 43 , Loss: 0.33727084316809974\n",
      "Epoch: 44 , Loss: 0.3355030224521955\n",
      "Epoch: 45 , Loss: 0.33282148724794386\n",
      "Epoch: 46 , Loss: 0.33299910386403403\n",
      "Epoch: 47 , Loss: 0.3280494329830011\n",
      "Epoch: 48 , Loss: 0.3234021171132723\n",
      "Epoch: 49 , Loss: 0.32423313001791637\n",
      "Epoch: 50 , Loss: 0.3256620933214823\n",
      "Epoch: 51 , Loss: 0.32354754326740903\n",
      "Epoch: 52 , Loss: 0.32117663592100143\n",
      "Epoch: 53 , Loss: 0.31866766764720283\n",
      "Epoch: 54 , Loss: 0.3203743329743544\n",
      "Epoch: 55 , Loss: 0.31373233302434284\n",
      "Epoch: 56 , Loss: 0.31349689612785975\n",
      "Epoch: 57 , Loss: 0.31615028526385625\n",
      "Epoch: 58 , Loss: 0.31043586557110153\n",
      "Epoch: 59 , Loss: 0.31182878398895264\n",
      "Epoch: 60 , Loss: 0.3090029162565867\n",
      "Epoch: 61 , Loss: 0.3080988429784775\n",
      "Epoch: 62 , Loss: 0.3047878121137619\n",
      "Epoch: 63 , Loss: 0.30975382854541145\n",
      "Epoch: 64 , Loss: 0.3065086065133413\n",
      "Epoch: 65 , Loss: 0.3024087383449078\n",
      "Epoch: 66 , Loss: 0.3009908297161261\n",
      "Epoch: 67 , Loss: 0.2996588632762432\n",
      "Epoch: 68 , Loss: 0.29714007797837255\n",
      "Epoch: 69 , Loss: 0.29656839021046955\n",
      "Epoch: 70 , Loss: 0.29696953187386194\n",
      "Epoch: 71 , Loss: 0.2965563942492008\n",
      "Epoch: 72 , Loss: 0.29411994403600694\n",
      "Epoch: 73 , Loss: 0.2875887435575326\n",
      "Epoch: 74 , Loss: 0.29342797381679214\n",
      "Epoch: 75 , Loss: 0.2914273716111978\n",
      "Epoch: 76 , Loss: 0.29008209269245466\n",
      "Epoch: 77 , Loss: 0.2902846629520257\n",
      "Epoch: 78 , Loss: 0.2885772420068582\n",
      "Epoch: 79 , Loss: 0.28623464637994767\n",
      "Epoch: 80 , Loss: 0.28282179569204646\n",
      "Epoch: 81 , Loss: 0.28370767074326675\n",
      "Epoch: 82 , Loss: 0.2845185805062453\n",
      "Epoch: 83 , Loss: 0.2822668710052967\n",
      "Epoch: 84 , Loss: 0.2808381804128488\n",
      "Epoch: 85 , Loss: 0.27673516843716306\n",
      "Epoch: 86 , Loss: 0.28095594080289205\n",
      "Epoch: 87 , Loss: 0.2795990295310815\n",
      "Epoch: 88 , Loss: 0.27801690872510276\n",
      "Epoch: 89 , Loss: 0.2739066049059232\n",
      "Epoch: 90 , Loss: 0.27366861526171365\n",
      "Epoch: 91 , Loss: 0.27321094170212745\n",
      "Epoch: 92 , Loss: 0.2733696838816007\n",
      "Epoch: 93 , Loss: 0.2704059455096722\n",
      "Epoch: 94 , Loss: 0.2723396224677563\n",
      "Epoch: 95 , Loss: 0.2716467314263185\n",
      "Epoch: 96 , Loss: 0.2688694848318895\n",
      "Epoch: 97 , Loss: 0.272474793702364\n",
      "Epoch: 98 , Loss: 0.2663680871228377\n",
      "Epoch: 99 , Loss: 0.2661160277724266\n",
      "Epoch: 100 , Loss: 0.2691901372671127\n"
     ]
    }
   ],
   "source": [
    "# training loop\n",
    "epochs = 100\n",
    "\n",
    "for epoch in range(epochs):\n",
    "\n",
    "  total_epoch_loss = 0\n",
    "\n",
    "  for batch_features, batch_labels in train_loader:\n",
    "\n",
    "    # move data to gpu\n",
    "    batch_features, batch_labels = batch_features.to(device), batch_labels.to(device)\n",
    "\n",
    "    # forward pass\n",
    "    outputs = model(batch_features)\n",
    "\n",
    "    # calculate loss\n",
    "    loss = loss_fc(outputs, batch_labels)\n",
    "\n",
    "    # back pass\n",
    "    optimizer.zero_grad()\n",
    "    loss.backward()\n",
    "\n",
    "    # update grads\n",
    "    optimizer.step()\n",
    "\n",
    "    total_epoch_loss = total_epoch_loss + loss.item()\n",
    "\n",
    "  avg_loss = total_epoch_loss/len(train_loader)\n",
    "  print(f'Epoch: {epoch + 1} , Loss: {avg_loss}')"
   ]
  },
  {
   "cell_type": "code",
   "execution_count": 56,
   "id": "02d4f551-a87a-415a-b7f3-fe1428650c1f",
   "metadata": {},
   "outputs": [
    {
     "data": {
      "text/plain": [
       "FufaNN(\n",
       "  (network): Sequential(\n",
       "    (0): Linear(in_features=784, out_features=128, bias=True)\n",
       "    (1): BatchNorm1d(128, eps=1e-05, momentum=0.1, affine=True, track_running_stats=True)\n",
       "    (2): ReLU()\n",
       "    (3): Dropout(p=0.4, inplace=False)\n",
       "    (4): Linear(in_features=128, out_features=64, bias=True)\n",
       "    (5): BatchNorm1d(64, eps=1e-05, momentum=0.1, affine=True, track_running_stats=True)\n",
       "    (6): ReLU()\n",
       "    (7): Dropout(p=0.4, inplace=False)\n",
       "    (8): Linear(in_features=64, out_features=10, bias=True)\n",
       "  )\n",
       ")"
      ]
     },
     "execution_count": 56,
     "metadata": {},
     "output_type": "execute_result"
    }
   ],
   "source": [
    "model.eval()"
   ]
  },
  {
   "cell_type": "code",
   "execution_count": 57,
   "id": "f2e68fa2-b4e1-4420-b6ba-1232493db324",
   "metadata": {},
   "outputs": [
    {
     "name": "stdout",
     "output_type": "stream",
     "text": [
      "0.8885\n"
     ]
    }
   ],
   "source": [
    "# evaluation on test data\n",
    "total = 0\n",
    "correct = 0\n",
    "\n",
    "with torch.no_grad():\n",
    "\n",
    "  for batch_features, batch_labels in test_loader:\n",
    "\n",
    "    # move data to gpu\n",
    "    batch_features, batch_labels = batch_features.to(device), batch_labels.to(device)\n",
    "\n",
    "    outputs = model(batch_features)\n",
    "\n",
    "    _, predicted = torch.max(outputs, 1)\n",
    "\n",
    "    total = total + batch_labels.shape[0]\n",
    "\n",
    "    correct = correct + (predicted == batch_labels).sum().item()\n",
    "\n",
    "print(correct/total)"
   ]
  },
  {
   "cell_type": "code",
   "execution_count": 58,
   "id": "b08dc185-9106-4242-9d81-09120a689a8c",
   "metadata": {},
   "outputs": [
    {
     "name": "stdout",
     "output_type": "stream",
     "text": [
      "0.9416041666666667\n"
     ]
    }
   ],
   "source": [
    "# evaluation on test data\n",
    "total = 0\n",
    "correct = 0\n",
    "\n",
    "with torch.no_grad():\n",
    "\n",
    "  for batch_features, batch_labels in train_loader:\n",
    "\n",
    "    # move data to gpu\n",
    "    batch_features, batch_labels = batch_features.to(device), batch_labels.to(device)\n",
    "\n",
    "    outputs = model(batch_features)\n",
    "\n",
    "    _, predicted = torch.max(outputs, 1)\n",
    "\n",
    "    total = total + batch_labels.shape[0]\n",
    "\n",
    "    correct = correct + (predicted == batch_labels).sum().item()\n",
    "\n",
    "print(correct/total)"
   ]
  },
  {
   "cell_type": "code",
   "execution_count": null,
   "id": "be449c29-84f6-4fc1-b30a-83b04a5b5a68",
   "metadata": {},
   "outputs": [],
   "source": []
  }
 ],
 "metadata": {
  "kernelspec": {
   "display_name": "Python 3 (ipykernel)",
   "language": "python",
   "name": "python3"
  },
  "language_info": {
   "codemirror_mode": {
    "name": "ipython",
    "version": 3
   },
   "file_extension": ".py",
   "mimetype": "text/x-python",
   "name": "python",
   "nbconvert_exporter": "python",
   "pygments_lexer": "ipython3",
   "version": "3.12.1"
  }
 },
 "nbformat": 4,
 "nbformat_minor": 5
}
